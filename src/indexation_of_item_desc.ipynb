{
 "cells": [
  {
   "cell_type": "code",
   "execution_count": 1,
   "metadata": {},
   "outputs": [],
   "source": [
    "import spacy\n",
    "from spacy.tokenizer import Tokenizer\n",
    "\n",
    "import data_preparation as mdp\n",
    "from mercari_config import MercariConfig"
   ]
  },
  {
   "cell_type": "code",
   "execution_count": 2,
   "metadata": {},
   "outputs": [],
   "source": [
    "nlp = spacy.load('en')\n",
    "tokenizer = Tokenizer(nlp.vocab)"
   ]
  },
  {
   "cell_type": "code",
   "execution_count": 3,
   "metadata": {},
   "outputs": [],
   "source": [
    "word2index = mdp.load_word2index(\n",
    "    file_name=MercariConfig.WORD_2_INDEX_4_ITEM_DESC_FILE, \n",
    "    max_words_from_index=MercariConfig.MAX_WORDS_FROM_INDEX_4_ITEM_DESC)\n",
    "\n",
    "train_data = mdp.load_data(MercariConfig.TRAINING_SET_PREP_FILE, head=None)\n",
    "val_data = mdp.load_data(MercariConfig.VALIDATION_SET_PREP_FILE, head=None)"
   ]
  },
  {
   "cell_type": "code",
   "execution_count": 4,
   "metadata": {},
   "outputs": [],
   "source": [
    "def index_item_desc(data):\n",
    "    max_words_item_desc = MercariConfig.MAX_WORDS_IN_ITEM_DESC\n",
    "\n",
    "    for i in range(max_words_item_desc + 1):\n",
    "        data['id' + str(i)] = 0\n",
    "\n",
    "    data_len = len(data)\n",
    "\n",
    "    progress = 0\n",
    "\n",
    "    row_iterator = data.iterrows()\n",
    "\n",
    "    for index, _ in row_iterator:\n",
    "        desc = data.at[index, 'item_description']\n",
    "        desc_doc = tokenizer(desc)\n",
    "        seq_i = 1\n",
    "\n",
    "        data.at[index, 'id0'] = MercariConfig.START_I # <START>\n",
    "\n",
    "        for token in desc_doc:\n",
    "            if seq_i <= max_words_item_desc:\n",
    "                if token.text in word2index.index:\n",
    "                    data.at[index, 'id' + str(seq_i)] = word2index.at[token.text, 'word_id']\n",
    "                else:\n",
    "                    data.at[index, 'id' + str(seq_i)] = MercariConfig.OOV_I # <OOV>\n",
    "\n",
    "                seq_i += 1\n",
    "            else:\n",
    "                break\n",
    "\n",
    "        progress += 1\n",
    "\n",
    "        if not progress % 10000:\n",
    "            print(\"Progress: %3.2f\" % (progress * 100.0 / data_len))"
   ]
  },
  {
   "cell_type": "code",
   "execution_count": null,
   "metadata": {},
   "outputs": [
    {
     "name": "stdout",
     "output_type": "stream",
     "text": [
      "Progress: 4.22\n",
      "Progress: 8.43\n",
      "Progress: 12.65\n",
      "Progress: 16.86\n",
      "Progress: 21.08\n",
      "Progress: 25.29\n",
      "Progress: 29.51\n",
      "Progress: 33.73\n",
      "Progress: 37.94\n",
      "Progress: 42.16\n",
      "Progress: 46.37\n",
      "Progress: 50.59\n",
      "Progress: 54.80\n",
      "Progress: 59.02\n",
      "Progress: 63.24\n",
      "Progress: 67.45\n",
      "Progress: 71.67\n",
      "Progress: 75.88\n",
      "Progress: 80.10\n",
      "Progress: 84.32\n",
      "Progress: 88.53\n",
      "Progress: 92.75\n",
      "Progress: 96.96\n",
      "CPU times: user 3min 41s, sys: 7.18 s, total: 3min 49s\n",
      "Wall time: 3min 35s\n"
     ]
    }
   ],
   "source": [
    "%%time\n",
    "\n",
    "index_item_desc(train_data)"
   ]
  },
  {
   "cell_type": "code",
   "execution_count": null,
   "metadata": {},
   "outputs": [],
   "source": [
    "%%time\n",
    "\n",
    "index_item_desc(val_data)"
   ]
  },
  {
   "cell_type": "code",
   "execution_count": null,
   "metadata": {},
   "outputs": [],
   "source": [
    "mdp.save_data(train_data, MercariConfig.TRAINING_SET_PREP_FILE)"
   ]
  },
  {
   "cell_type": "code",
   "execution_count": null,
   "metadata": {},
   "outputs": [],
   "source": [
    "mdp.save_data(val_data, MercariConfig.VALIDATION_SET_PREP_FILE)"
   ]
  },
  {
   "cell_type": "code",
   "execution_count": null,
   "metadata": {},
   "outputs": [],
   "source": []
  }
 ],
 "metadata": {
  "kernelspec": {
   "display_name": "Python 3",
   "language": "python",
   "name": "python3"
  },
  "language_info": {
   "codemirror_mode": {
    "name": "ipython",
    "version": 3
   },
   "file_extension": ".py",
   "mimetype": "text/x-python",
   "name": "python",
   "nbconvert_exporter": "python",
   "pygments_lexer": "ipython3",
   "version": "3.5.2"
  }
 },
 "nbformat": 4,
 "nbformat_minor": 2
}
