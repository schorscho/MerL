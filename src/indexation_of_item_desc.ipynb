{
 "cells": [
  {
   "cell_type": "code",
   "execution_count": 1,
   "metadata": {},
   "outputs": [],
   "source": [
    "import spacy\n",
    "from spacy.tokenizer import Tokenizer\n",
    "\n",
    "import data_preparation as mdp\n",
    "from mercari_config import MercariConfig"
   ]
  },
  {
   "cell_type": "code",
   "execution_count": 2,
   "metadata": {},
   "outputs": [],
   "source": [
    "nlp = spacy.load('en')\n",
    "tokenizer = Tokenizer(nlp.vocab)"
   ]
  },
  {
   "cell_type": "code",
   "execution_count": 3,
   "metadata": {},
   "outputs": [],
   "source": [
    "word2index = mdp.load_word2index(\n",
    "    file_name=MercariConfig.WORD_2_INDEX_4_ITEM_DESC_FILE, \n",
    "    max_words_from_index=MercariConfig.MAX_WORDS_FROM_INDEX_4_ITEM_DESC)\n",
    "\n",
    "train_data = mdp.load_data(MercariConfig.TRAINING_SET_PREP_FILE, head=None)"
   ]
  },
  {
   "cell_type": "code",
   "execution_count": 4,
   "metadata": {},
   "outputs": [
    {
     "name": "stdout",
     "output_type": "stream",
     "text": [
      "Progress: 6.75\n",
      "Progress: 13.49\n",
      "Progress: 20.24\n",
      "Progress: 26.98\n",
      "Progress: 33.73\n",
      "Progress: 40.47\n",
      "Progress: 47.22\n",
      "Progress: 53.96\n",
      "Progress: 60.71\n",
      "Progress: 67.45\n",
      "Progress: 74.20\n",
      "Progress: 80.94\n",
      "Progress: 87.69\n",
      "Progress: 94.43\n",
      "CPU times: user 2min 18s, sys: 4.12 s, total: 2min 22s\n",
      "Wall time: 2min 14s\n"
     ]
    }
   ],
   "source": [
    "%%time\n",
    "\n",
    "max_words_item_desc = MercariConfig.MAX_WORDS_IN_ITEM_DESC\n",
    "\n",
    "for i in range(max_words_item_desc + 1):\n",
    "    train_data['id' + str(i)] = 0\n",
    "\n",
    "data_len = len(train_data)\n",
    "\n",
    "progress = 0\n",
    "\n",
    "row_iterator = train_data.iterrows()\n",
    "\n",
    "for index, _ in row_iterator:\n",
    "    desc = train_data.at[index, 'item_description']\n",
    "    desc_doc = tokenizer(desc)\n",
    "    seq_i = 1\n",
    "\n",
    "    train_data.at[index, 'id0'] = MercariConfig.START_I # <START>\n",
    "\n",
    "    for token in desc_doc:\n",
    "        if seq_i <= max_words_item_desc:\n",
    "            if token.text in word2index.index:\n",
    "                train_data.at[index, 'id' + str(seq_i)] = word2index.at[token.text, 'word_id']\n",
    "            else:\n",
    "                train_data.at[index, 'id' + str(seq_i)] = MercariConfig.OOV_I # <OOV>\n",
    "\n",
    "            seq_i += 1\n",
    "        else:\n",
    "            break\n",
    "\n",
    "    progress += 1\n",
    "\n",
    "    if not progress % 10000:\n",
    "        print(\"Progress: %3.2f\" % (progress * 100.0 / data_len))"
   ]
  },
  {
   "cell_type": "code",
   "execution_count": 5,
   "metadata": {},
   "outputs": [],
   "source": [
    "mdp.save_data(train_data, MercariConfig.TRAINING_SET_PREP_FILE)"
   ]
  }
 ],
 "metadata": {
  "kernelspec": {
   "display_name": "Python 3",
   "language": "python",
   "name": "python3"
  },
  "language_info": {
   "codemirror_mode": {
    "name": "ipython",
    "version": 3
   },
   "file_extension": ".py",
   "mimetype": "text/x-python",
   "name": "python",
   "nbconvert_exporter": "python",
   "pygments_lexer": "ipython3",
   "version": "3.5.2"
  }
 },
 "nbformat": 4,
 "nbformat_minor": 2
}
