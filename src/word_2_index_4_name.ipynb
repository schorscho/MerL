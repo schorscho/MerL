{
 "cells": [
  {
   "cell_type": "code",
   "execution_count": 1,
   "metadata": {},
   "outputs": [],
   "source": [
    "import pandas as pd\n",
    "import spacy\n",
    "from spacy.tokenizer import Tokenizer\n",
    "from spacy.symbols import ORTH\n",
    "\n",
    "import data_preparation as mdp\n",
    "from mercari_config import MercariConfig"
   ]
  },
  {
   "cell_type": "code",
   "execution_count": 2,
   "metadata": {},
   "outputs": [
    {
     "name": "stdout",
     "output_type": "stream",
     "text": [
      "CPU times: user 19.6 s, sys: 2.06 s, total: 21.7 s\n",
      "Wall time: 20.4 s\n"
     ]
    }
   ],
   "source": [
    "%%time\n",
    "\n",
    "nlp = spacy.load('en_core_web_md', disable=['parser', 'tagger'])  \n",
    "tokenizer = Tokenizer(nlp.vocab)\n",
    "\n",
    "train_data = mdp.load_data(MercariConfig.TRAINING_SET_PREP_FILE)"
   ]
  },
  {
   "cell_type": "code",
   "execution_count": 3,
   "metadata": {},
   "outputs": [
    {
     "data": {
      "text/plain": [
       "[('ner', <spacy.pipeline.EntityRecognizer at 0x7efc27473fc0>)]"
      ]
     },
     "execution_count": 3,
     "metadata": {},
     "output_type": "execute_result"
    }
   ],
   "source": [
    "nlp.pipeline"
   ]
  },
  {
   "cell_type": "code",
   "execution_count": 4,
   "metadata": {},
   "outputs": [],
   "source": [
    "nlp.tokenizer.add_special_case('[rm]', [{ORTH: '[rm]'}])"
   ]
  },
  {
   "cell_type": "code",
   "execution_count": 5,
   "metadata": {},
   "outputs": [
    {
     "name": "stdout",
     "output_type": "stream",
     "text": [
      "CPU times: user 36 ms, sys: 0 ns, total: 36 ms\n",
      "Wall time: 36.4 ms\n"
     ]
    }
   ],
   "source": [
    "%%time\n",
    "\n",
    "word = mdp.init_word_dict()\n",
    "max_words_in_name = mdp.walk_items(items=train_data['name'], nlp=nlp, word=word)"
   ]
  },
  {
   "cell_type": "code",
   "execution_count": 6,
   "metadata": {},
   "outputs": [],
   "source": [
    "word2index = mdp.build_word2index(word=word)"
   ]
  },
  {
   "cell_type": "code",
   "execution_count": 7,
   "metadata": {},
   "outputs": [
    {
     "data": {
      "text/html": [
       "<div>\n",
       "<style scoped>\n",
       "    .dataframe tbody tr th:only-of-type {\n",
       "        vertical-align: middle;\n",
       "    }\n",
       "\n",
       "    .dataframe tbody tr th {\n",
       "        vertical-align: top;\n",
       "    }\n",
       "\n",
       "    .dataframe thead th {\n",
       "        text-align: right;\n",
       "    }\n",
       "</style>\n",
       "<table border=\"1\" class=\"dataframe\">\n",
       "  <thead>\n",
       "    <tr style=\"text-align: right;\">\n",
       "      <th></th>\n",
       "      <th>word_id</th>\n",
       "      <th>entity_type</th>\n",
       "      <th>count</th>\n",
       "    </tr>\n",
       "    <tr>\n",
       "      <th>word</th>\n",
       "      <th></th>\n",
       "      <th></th>\n",
       "      <th></th>\n",
       "    </tr>\n",
       "  </thead>\n",
       "  <tbody>\n",
       "    <tr>\n",
       "      <th>___PAD___</th>\n",
       "      <td>0</td>\n",
       "      <td>___NONE_ENTITY___</td>\n",
       "      <td>0</td>\n",
       "    </tr>\n",
       "    <tr>\n",
       "      <th>___START___</th>\n",
       "      <td>1</td>\n",
       "      <td>___NONE_ENTITY___</td>\n",
       "      <td>0</td>\n",
       "    </tr>\n",
       "    <tr>\n",
       "      <th>___OOV___</th>\n",
       "      <td>2</td>\n",
       "      <td>___NONE_ENTITY___</td>\n",
       "      <td>0</td>\n",
       "    </tr>\n",
       "    <tr>\n",
       "      <th>[rm]</th>\n",
       "      <td>3</td>\n",
       "      <td>___NONE_ENTITY___</td>\n",
       "      <td>0</td>\n",
       "    </tr>\n",
       "    <tr>\n",
       "      <th>___VERY_EMPTY_NAME___</th>\n",
       "      <td>4</td>\n",
       "      <td>___NONE_ENTITY___</td>\n",
       "      <td>0</td>\n",
       "    </tr>\n",
       "    <tr>\n",
       "      <th>___VERY_EMPTY_CATEGORY___</th>\n",
       "      <td>5</td>\n",
       "      <td>___NONE_ENTITY___</td>\n",
       "      <td>0</td>\n",
       "    </tr>\n",
       "    <tr>\n",
       "      <th>___VERY_EMPTY_BRAND___</th>\n",
       "      <td>6</td>\n",
       "      <td>___NONE_ENTITY___</td>\n",
       "      <td>0</td>\n",
       "    </tr>\n",
       "    <tr>\n",
       "      <th>___VERY_EMPTY_DESCRIPTION___</th>\n",
       "      <td>7</td>\n",
       "      <td>___NONE_ENTITY___</td>\n",
       "      <td>0</td>\n",
       "    </tr>\n",
       "    <tr>\n",
       "      <th>'s</th>\n",
       "      <td>8</td>\n",
       "      <td>___NONE_ENTITY___</td>\n",
       "      <td>1</td>\n",
       "    </tr>\n",
       "    <tr>\n",
       "      <th>,</th>\n",
       "      <td>9</td>\n",
       "      <td>___NONE_ENTITY___</td>\n",
       "      <td>1</td>\n",
       "    </tr>\n",
       "    <tr>\n",
       "      <th>10</th>\n",
       "      <td>10</td>\n",
       "      <td>CARDINAL</td>\n",
       "      <td>1</td>\n",
       "    </tr>\n",
       "    <tr>\n",
       "      <th>4</th>\n",
       "      <td>11</td>\n",
       "      <td>CARDINAL</td>\n",
       "      <td>1</td>\n",
       "    </tr>\n",
       "    <tr>\n",
       "      <th>American Eagle Jeans</th>\n",
       "      <td>12</td>\n",
       "      <td>ORG</td>\n",
       "      <td>1</td>\n",
       "    </tr>\n",
       "    <tr>\n",
       "      <th>Apple Watch Band</th>\n",
       "      <td>13</td>\n",
       "      <td>ORG</td>\n",
       "      <td>1</td>\n",
       "    </tr>\n",
       "    <tr>\n",
       "      <th>Beige</th>\n",
       "      <td>14</td>\n",
       "      <td>PERSON</td>\n",
       "      <td>1</td>\n",
       "    </tr>\n",
       "    <tr>\n",
       "      <th>Dolls</th>\n",
       "      <td>15</td>\n",
       "      <td>___NONE_ENTITY___</td>\n",
       "      <td>1</td>\n",
       "    </tr>\n",
       "    <tr>\n",
       "      <th>F21</th>\n",
       "      <td>16</td>\n",
       "      <td>ORG</td>\n",
       "      <td>1</td>\n",
       "    </tr>\n",
       "    <tr>\n",
       "      <th>Gymshark</th>\n",
       "      <td>17</td>\n",
       "      <td>___NONE_ENTITY___</td>\n",
       "      <td>1</td>\n",
       "    </tr>\n",
       "    <tr>\n",
       "      <th>Long</th>\n",
       "      <td>18</td>\n",
       "      <td>___NONE_ENTITY___</td>\n",
       "      <td>1</td>\n",
       "    </tr>\n",
       "    <tr>\n",
       "      <th>Nike</th>\n",
       "      <td>19</td>\n",
       "      <td>ORG</td>\n",
       "      <td>2</td>\n",
       "    </tr>\n",
       "    <tr>\n",
       "      <th>Nine</th>\n",
       "      <td>20</td>\n",
       "      <td>CARDINAL</td>\n",
       "      <td>1</td>\n",
       "    </tr>\n",
       "    <tr>\n",
       "      <th>Vera</th>\n",
       "      <td>21</td>\n",
       "      <td>ORG</td>\n",
       "      <td>1</td>\n",
       "    </tr>\n",
       "    <tr>\n",
       "      <th>West</th>\n",
       "      <td>22</td>\n",
       "      <td>LOC</td>\n",
       "      <td>1</td>\n",
       "    </tr>\n",
       "    <tr>\n",
       "      <th>bralette</th>\n",
       "      <td>31</td>\n",
       "      <td>___NONE_ENTITY___</td>\n",
       "      <td>1</td>\n",
       "    </tr>\n",
       "    <tr>\n",
       "      <th>cardigan</th>\n",
       "      <td>32</td>\n",
       "      <td>___NONE_ENTITY___</td>\n",
       "      <td>1</td>\n",
       "    </tr>\n",
       "    <tr>\n",
       "      <th>colorsticks</th>\n",
       "      <td>33</td>\n",
       "      <td>___NONE_ENTITY___</td>\n",
       "      <td>1</td>\n",
       "    </tr>\n",
       "    <tr>\n",
       "      <th>cropped</th>\n",
       "      <td>34</td>\n",
       "      <td>___NONE_ENTITY___</td>\n",
       "      <td>1</td>\n",
       "    </tr>\n",
       "    <tr>\n",
       "      <th>dress</th>\n",
       "      <td>35</td>\n",
       "      <td>___NONE_ENTITY___</td>\n",
       "      <td>1</td>\n",
       "    </tr>\n",
       "    <tr>\n",
       "      <th>hoodie</th>\n",
       "      <td>36</td>\n",
       "      <td>___NONE_ENTITY___</td>\n",
       "      <td>1</td>\n",
       "    </tr>\n",
       "    <tr>\n",
       "      <th>leggings</th>\n",
       "      <td>37</td>\n",
       "      <td>___NONE_ENTITY___</td>\n",
       "      <td>1</td>\n",
       "    </tr>\n",
       "    <tr>\n",
       "      <th>neutrogena</th>\n",
       "      <td>38</td>\n",
       "      <td>___NONE_ENTITY___</td>\n",
       "      <td>1</td>\n",
       "    </tr>\n",
       "    <tr>\n",
       "      <th>size</th>\n",
       "      <td>39</td>\n",
       "      <td>___NONE_ENTITY___</td>\n",
       "      <td>1</td>\n",
       "    </tr>\n",
       "    <tr>\n",
       "      <th>slides</th>\n",
       "      <td>40</td>\n",
       "      <td>___NONE_ENTITY___</td>\n",
       "      <td>1</td>\n",
       "    </tr>\n",
       "    <tr>\n",
       "      <th>strappy</th>\n",
       "      <td>41</td>\n",
       "      <td>___NONE_ENTITY___</td>\n",
       "      <td>1</td>\n",
       "    </tr>\n",
       "  </tbody>\n",
       "</table>\n",
       "</div>"
      ],
      "text/plain": [
       "                              word_id        entity_type  count\n",
       "word                                                           \n",
       "___PAD___                           0  ___NONE_ENTITY___      0\n",
       "___START___                         1  ___NONE_ENTITY___      0\n",
       "___OOV___                           2  ___NONE_ENTITY___      0\n",
       "[rm]                                3  ___NONE_ENTITY___      0\n",
       "___VERY_EMPTY_NAME___               4  ___NONE_ENTITY___      0\n",
       "___VERY_EMPTY_CATEGORY___           5  ___NONE_ENTITY___      0\n",
       "___VERY_EMPTY_BRAND___              6  ___NONE_ENTITY___      0\n",
       "___VERY_EMPTY_DESCRIPTION___        7  ___NONE_ENTITY___      0\n",
       "'s                                  8  ___NONE_ENTITY___      1\n",
       ",                                   9  ___NONE_ENTITY___      1\n",
       "10                                 10           CARDINAL      1\n",
       "4                                  11           CARDINAL      1\n",
       "American Eagle Jeans               12                ORG      1\n",
       "Apple Watch Band                   13                ORG      1\n",
       "Beige                              14             PERSON      1\n",
       "Dolls                              15  ___NONE_ENTITY___      1\n",
       "F21                                16                ORG      1\n",
       "Gymshark                           17  ___NONE_ENTITY___      1\n",
       "Long                               18  ___NONE_ENTITY___      1\n",
       "Nike                               19                ORG      2\n",
       "Nine                               20           CARDINAL      1\n",
       "Vera                               21                ORG      1\n",
       "West                               22                LOC      1\n",
       "bralette                           31  ___NONE_ENTITY___      1\n",
       "cardigan                           32  ___NONE_ENTITY___      1\n",
       "colorsticks                        33  ___NONE_ENTITY___      1\n",
       "cropped                            34  ___NONE_ENTITY___      1\n",
       "dress                              35  ___NONE_ENTITY___      1\n",
       "hoodie                             36  ___NONE_ENTITY___      1\n",
       "leggings                           37  ___NONE_ENTITY___      1\n",
       "neutrogena                         38  ___NONE_ENTITY___      1\n",
       "size                               39  ___NONE_ENTITY___      1\n",
       "slides                             40  ___NONE_ENTITY___      1\n",
       "strappy                            41  ___NONE_ENTITY___      1"
      ]
     },
     "execution_count": 7,
     "metadata": {},
     "output_type": "execute_result"
    }
   ],
   "source": [
    "word2index"
   ]
  },
  {
   "cell_type": "code",
   "execution_count": 8,
   "metadata": {},
   "outputs": [],
   "source": [
    "mdp.save_word2index(word2index=word2index, file_name=MercariConfig.WORD_2_INDEX_4_NAME_FILE )"
   ]
  },
  {
   "cell_type": "code",
   "execution_count": 9,
   "metadata": {},
   "outputs": [
    {
     "data": {
      "text/plain": [
       "34"
      ]
     },
     "execution_count": 9,
     "metadata": {},
     "output_type": "execute_result"
    }
   ],
   "source": [
    "len(word2index)"
   ]
  },
  {
   "cell_type": "code",
   "execution_count": 10,
   "metadata": {},
   "outputs": [
    {
     "data": {
      "text/plain": [
       "word_id        34\n",
       "entity_type    34\n",
       "count          34\n",
       "dtype: int64"
      ]
     },
     "execution_count": 10,
     "metadata": {},
     "output_type": "execute_result"
    }
   ],
   "source": [
    "word2index.count()"
   ]
  },
  {
   "cell_type": "code",
   "execution_count": 11,
   "metadata": {},
   "outputs": [
    {
     "data": {
      "text/plain": [
       "5"
      ]
     },
     "execution_count": 11,
     "metadata": {},
     "output_type": "execute_result"
    }
   ],
   "source": [
    "max_words_in_name"
   ]
  },
  {
   "cell_type": "code",
   "execution_count": 12,
   "metadata": {},
   "outputs": [
    {
     "data": {
      "text/html": [
       "<div>\n",
       "<style scoped>\n",
       "    .dataframe tbody tr th:only-of-type {\n",
       "        vertical-align: middle;\n",
       "    }\n",
       "\n",
       "    .dataframe tbody tr th {\n",
       "        vertical-align: top;\n",
       "    }\n",
       "\n",
       "    .dataframe thead th {\n",
       "        text-align: right;\n",
       "    }\n",
       "</style>\n",
       "<table border=\"1\" class=\"dataframe\">\n",
       "  <thead>\n",
       "    <tr style=\"text-align: right;\">\n",
       "      <th></th>\n",
       "      <th>word_id</th>\n",
       "      <th>count</th>\n",
       "    </tr>\n",
       "    <tr>\n",
       "      <th>entity_type</th>\n",
       "      <th></th>\n",
       "      <th></th>\n",
       "    </tr>\n",
       "  </thead>\n",
       "  <tbody>\n",
       "    <tr>\n",
       "      <th>CARDINAL</th>\n",
       "      <td>3</td>\n",
       "      <td>3</td>\n",
       "    </tr>\n",
       "    <tr>\n",
       "      <th>LOC</th>\n",
       "      <td>1</td>\n",
       "      <td>1</td>\n",
       "    </tr>\n",
       "    <tr>\n",
       "      <th>ORG</th>\n",
       "      <td>5</td>\n",
       "      <td>5</td>\n",
       "    </tr>\n",
       "    <tr>\n",
       "      <th>PERSON</th>\n",
       "      <td>1</td>\n",
       "      <td>1</td>\n",
       "    </tr>\n",
       "    <tr>\n",
       "      <th>___NONE_ENTITY___</th>\n",
       "      <td>24</td>\n",
       "      <td>24</td>\n",
       "    </tr>\n",
       "  </tbody>\n",
       "</table>\n",
       "</div>"
      ],
      "text/plain": [
       "                   word_id  count\n",
       "entity_type                      \n",
       "CARDINAL                 3      3\n",
       "LOC                      1      1\n",
       "ORG                      5      5\n",
       "PERSON                   1      1\n",
       "___NONE_ENTITY___       24     24"
      ]
     },
     "execution_count": 12,
     "metadata": {},
     "output_type": "execute_result"
    }
   ],
   "source": [
    "word2index.groupby(\"entity_type\").count()"
   ]
  },
  {
   "cell_type": "code",
   "execution_count": null,
   "metadata": {},
   "outputs": [],
   "source": []
  }
 ],
 "metadata": {
  "kernelspec": {
   "display_name": "Python 3",
   "language": "python",
   "name": "python3"
  },
  "language_info": {
   "codemirror_mode": {
    "name": "ipython",
    "version": 3
   },
   "file_extension": ".py",
   "mimetype": "text/x-python",
   "name": "python",
   "nbconvert_exporter": "python",
   "pygments_lexer": "ipython3",
   "version": "3.5.2"
  }
 },
 "nbformat": 4,
 "nbformat_minor": 2
}
