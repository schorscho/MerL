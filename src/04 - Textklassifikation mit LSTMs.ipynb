{
 "cells": [
  {
   "cell_type": "code",
   "execution_count": 1,
   "metadata": {},
   "outputs": [
    {
     "name": "stderr",
     "output_type": "stream",
     "text": [
      "Using TensorFlow backend.\n",
      "/home/ergodlws/anaconda3/lib/python3.6/importlib/_bootstrap.py:219: RuntimeWarning: compiletime version 3.5 of module 'tensorflow.python.framework.fast_tensor_util' does not match runtime version 3.6\n",
      "  return f(*args, **kwds)\n"
     ]
    }
   ],
   "source": [
    "import numpy as np\n",
    "\n",
    "from keras.preprocessing import sequence\n",
    "import keras.models as km\n",
    "import keras.layers as kl\n",
    "import keras.constraints as kc\n",
    "from keras.datasets import imdb\n",
    "\n",
    "import matplotlib.pyplot as plt\n",
    "%matplotlib inline\n",
    "\n",
    "import ipywidgets as ipw"
   ]
  },
  {
   "cell_type": "markdown",
   "metadata": {},
   "source": [
    "Wir definieren zunächst wieder globale Parameter.\n",
    "\n",
    "`num_words` bezeichnet hier die Größe unseres Vokabulars. In diesem Falle nehmen wir nur die 20.000 meist vorkommenden Worte. Seltenere Worte werden durch einen Platzhalter für ein fehlendes Wort ersetzt.\n",
    "\n",
    "`maxlen` bezeichnet die maximale Länge der Eingabesequenzen. Kürze Sequenzen werden mit einem Platzhalter aufgefüllt, länge Sequenzen beschnitten."
   ]
  },
  {
   "cell_type": "code",
   "execution_count": 2,
   "metadata": {
    "collapsed": true
   },
   "outputs": [],
   "source": [
    "num_words = 20000\n",
    "maxlen = 100\n",
    "batch_size = 32"
   ]
  },
  {
   "cell_type": "markdown",
   "metadata": {},
   "source": [
    "Wir laden den IMBD Sentiment Datensatz. Ziel ist es hier, anhand des Textes zu erkennen, ob es sich um einen positiven oder negativen Kommentar zu einem Film handelt."
   ]
  },
  {
   "cell_type": "code",
   "execution_count": 3,
   "metadata": {},
   "outputs": [
    {
     "name": "stdout",
     "output_type": "stream",
     "text": [
      "Downloading data from https://s3.amazonaws.com/text-datasets/imdb.npz\n",
      "17465344/17464789 [==============================] - 3s 0us/step\n"
     ]
    }
   ],
   "source": [
    "(x_train, y_train), (x_test, y_test) = imdb.load_data(num_words=num_words, index_from=2)"
   ]
  },
  {
   "cell_type": "markdown",
   "metadata": {},
   "source": [
    "Der Datensatz enthält jeweils 25.000 Trainings- und Testbeispiele. Diese sind bereits in Worte aufgeteilt und die Worte werde als Integer dargestellt. Um die Texte lesbar zu machen, laden wir noch die Tabelle, welche Integer wieder auf Worte projiziert."
   ]
  },
  {
   "cell_type": "code",
   "execution_count": 4,
   "metadata": {},
   "outputs": [
    {
     "name": "stdout",
     "output_type": "stream",
     "text": [
      "[1, 13, 21, 15, 42, 529, 972, 1621, 1384, 64, 457, 4467, 65, 3940, 3, 172, 35, 255, 4, 24, 99, 42, 837, 111, 49, 669, 2, 8, 34, 479, 283, 4, 149, 3, 171, 111, 166, 2, 335, 384, 38, 3, 171, 4535, 1110, 16, 545, 37, 12, 446, 3, 191, 49, 15, 5, 146, 2024, 18, 13, 21, 3, 1919, 4612, 468, 3, 21, 70, 86, 11, 15, 42, 529, 37, 75, 14, 12, 1246, 3, 21, 16, 514, 16, 11, 15, 625, 17, 19192, 4, 61, 385, 11, 7, 315, 7, 105, 4, 3, 2222, 5243, 15, 479, 65, 3784, 32, 3, 129, 11, 15, 37, 618, 4, 24, 123, 50, 35, 134, 47, 24, 1414, 32, 5, 21, 11, 214, 27, 76, 51, 4, 13, 406, 15, 81, 10310, 7, 3, 106, 116, 5951, 14, 255, 3, 2, 6, 3765, 4, 722, 35, 70, 42, 529, 475, 25, 399, 316, 45, 6, 3, 12117, 1028, 12, 103, 87, 3, 380, 14, 296, 97, 31, 2070, 55, 25, 140, 5, 193, 7485, 17, 3, 225, 21, 20, 133, 475, 25, 479, 4, 143, 29, 5534, 17, 50, 35, 27, 223, 91, 24, 103, 3, 225, 64, 15, 37, 1333, 87, 11, 15, 282, 4, 15, 4471, 112, 102, 31, 14, 15, 5344, 18, 177, 31]\n"
     ]
    }
   ],
   "source": [
    "print(x_train[0])"
   ]
  },
  {
   "cell_type": "markdown",
   "metadata": {},
   "source": [
    "Wir laden zunächst die Tabelle mit der Abbildung von Wort auf Index und bilden dann die inverse Tabelle. Dabei müssen wir beachten, dass bestimmte Indices nicht für worte, sondern für bestimmte Steuerungszeichen stehen:\n",
    "\n",
    "- 0 wird verwendet um \"padding\" darzustellen. Sequenzen kürzer als `maxlen` werden am Ende mit Nullen aufgefüllt.\n",
    "- 1 stellt markiert den Anfang eines Satzes\n",
    "- 2 wird für Out Of Vocabulary (OOV) Worte verwendet, also solche Worte, die nicht unter den top `num_words` Worten waren."
   ]
  },
  {
   "cell_type": "code",
   "execution_count": 5,
   "metadata": {},
   "outputs": [
    {
     "name": "stdout",
     "output_type": "stream",
     "text": [
      "Downloading data from https://s3.amazonaws.com/text-datasets/imdb_word_index.json\n",
      "1646592/1641221 [==============================] - 1s 1us/step\n"
     ]
    }
   ],
   "source": [
    "word2index = imdb.get_word_index()\n",
    "index2word = {i + 2: w for w, i in word2index.items()}\n",
    "\n",
    "index2word[0] = ''\n",
    "index2word[1] = '<START>'\n",
    "index2word[2] = '<OOV>'"
   ]
  },
  {
   "cell_type": "markdown",
   "metadata": {},
   "source": [
    "Mit dieser Tabelle lassen sich nun die Texte wieder umwandeln."
   ]
  },
  {
   "cell_type": "code",
   "execution_count": 6,
   "metadata": {},
   "outputs": [
    {
     "name": "stdout",
     "output_type": "stream",
     "text": [
      "<START> this film was just brilliant casting location scenery story direction everyone's really suited the part they played and you could just imagine being there robert <OOV> is an amazing actor and now the same being director <OOV> father came from the same scottish island as myself so i loved the fact there was a real connection with this film the witty remarks throughout the film were great it was just brilliant so much that i bought the film as soon as it was released for retail and would recommend it to everyone to watch and the fly fishing was amazing really cried at the end it was so sad and you know what they say if you cry at a film it must have been good and this definitely was also congratulations to the two little boy's that played the <OOV> of norman and paul they were just brilliant children are often left out of the praising list i think because the stars that play them all grown up are such a big profile for the whole film but these children are amazing and should be praised for what they have done don't you think the whole story was so lovely because it was true and was someone's life after all that was shared with us all\n"
     ]
    }
   ],
   "source": [
    "def features_to_text(features):\n",
    "    return \" \".join(index2word[i] for i in features)\n",
    "\n",
    "print(features_to_text(x_train[0]))"
   ]
  },
  {
   "cell_type": "markdown",
   "metadata": {},
   "source": [
    "Wir formatieren nun die Sequenzen so, dass sie alle die gleiche Länge haben."
   ]
  },
  {
   "cell_type": "code",
   "execution_count": 9,
   "metadata": {
    "collapsed": true
   },
   "outputs": [],
   "source": [
    "x_train_pad = sequence.pad_sequences(x_train, maxlen=maxlen, padding='post', truncating='post')\n",
    "x_test_pad = sequence.pad_sequences(x_test, maxlen=maxlen, padding='post', truncating='post')\n",
    "\n",
    "y_train = np.array(y_train)\n",
    "y_test = np.array(y_test)"
   ]
  },
  {
   "cell_type": "code",
   "execution_count": 10,
   "metadata": {},
   "outputs": [
    {
     "name": "stdout",
     "output_type": "stream",
     "text": [
      "<START> this film was just brilliant casting location scenery story direction everyone's really suited the part they played and you could just imagine being there robert <OOV> is an amazing actor and now the same being director <OOV> father came from the same scottish island as myself so i loved the fact there was a real connection with this film the witty remarks throughout the film were great it was just brilliant so much that i bought the film as soon as it was released for retail and would recommend it to everyone to watch and the fly fishing was\n"
     ]
    }
   ],
   "source": [
    "print(features_to_text(x_train_pad[0]))"
   ]
  },
  {
   "cell_type": "markdown",
   "metadata": {},
   "source": [
    "Wir wollen zunächst ein einfaches LSTM-Modell implementieren. Sprachmodelle beginnen typischerweise mit einem Embedding-Layer, welches die Liste von Indices in Vektoren umwandelt. Diese Sequenz von Vektoren wird dann als Eingabe für das LSTM-Layer verwendet. Als Ausgabe des LSTM-Layer erhalten wir den finalen interenen Zustand des Layers, den wir als Features für eine binäre logistische Regression verwenden.\n",
    "\n",
    "Zwei Besonderheiten sind hier zu beobachten: Zum einen verwenden wir eine bestimmte Implementierung des LSTM-Layers, welche auf Nvidia-GPUs besonder performant ist (CuDNNLSTM). Zum Anderen verwenden wir als Regularisierung hinter dem Embedding-Layer ein SpatialDropout1D-Layer. Dies sorgt dafür, dass in jedem Schritt in der Wort-Sequenz die gleichen Werte weggelassen werden."
   ]
  },
  {
   "cell_type": "code",
   "execution_count": 11,
   "metadata": {
    "collapsed": true
   },
   "outputs": [],
   "source": [
    "sequence_input = kl.Input(shape=(maxlen,))\n",
    "\n",
    "sequence_embeddings = kl.Embedding(num_words + 3, 32)\n",
    "lstm_layer = kl.CuDNNLSTM(32)\n",
    "clf_layer = kl.Dense(1, activation='sigmoid')\n",
    "\n",
    "output = sequence_embeddings(sequence_input)\n",
    "output = kl.SpatialDropout1D(0.5)(output)\n",
    "output = lstm_layer(output)\n",
    "output = kl.Dropout(0.5)(output)\n",
    "output = clf_layer(output)\n",
    "\n",
    "simple_model = km.Model(inputs=sequence_input, outputs=output)"
   ]
  },
  {
   "cell_type": "markdown",
   "metadata": {},
   "source": [
    "Aus der Summary wird ersichtlich, dass der großteil der Parameter in dem Embedding-Layer steckt."
   ]
  },
  {
   "cell_type": "code",
   "execution_count": 12,
   "metadata": {},
   "outputs": [
    {
     "name": "stdout",
     "output_type": "stream",
     "text": [
      "_________________________________________________________________\n",
      "Layer (type)                 Output Shape              Param #   \n",
      "=================================================================\n",
      "input_1 (InputLayer)         (None, 100)               0         \n",
      "_________________________________________________________________\n",
      "embedding_1 (Embedding)      (None, 100, 32)           640096    \n",
      "_________________________________________________________________\n",
      "spatial_dropout1d_1 (Spatial (None, 100, 32)           0         \n",
      "_________________________________________________________________\n",
      "cu_dnnlstm_1 (CuDNNLSTM)     (None, 32)                8448      \n",
      "_________________________________________________________________\n",
      "dropout_1 (Dropout)          (None, 32)                0         \n",
      "_________________________________________________________________\n",
      "dense_1 (Dense)              (None, 1)                 33        \n",
      "=================================================================\n",
      "Total params: 648,577\n",
      "Trainable params: 648,577\n",
      "Non-trainable params: 0\n",
      "_________________________________________________________________\n"
     ]
    }
   ],
   "source": [
    "simple_model.summary()"
   ]
  },
  {
   "cell_type": "markdown",
   "metadata": {},
   "source": [
    "LSTM-Netzwerke sind notorisch dafür, schwer optimierbar zu sein. Wir verwenden in diesem Fall den Adadelta-Optimizer."
   ]
  },
  {
   "cell_type": "code",
   "execution_count": 13,
   "metadata": {},
   "outputs": [
    {
     "name": "stdout",
     "output_type": "stream",
     "text": [
      "Train on 25000 samples, validate on 25000 samples\n",
      "Epoch 1/10\n",
      "25000/25000 [==============================] - 26s 1ms/step - loss: 0.6911 - acc: 0.5216 - val_loss: 0.7241 - val_acc: 0.5378\n",
      "Epoch 2/10\n",
      "25000/25000 [==============================] - 18s 714us/step - loss: 0.5912 - acc: 0.6967 - val_loss: 0.5116 - val_acc: 0.7554\n",
      "Epoch 3/10\n",
      "25000/25000 [==============================] - 18s 727us/step - loss: 0.4735 - acc: 0.7845 - val_loss: 0.4398 - val_acc: 0.7963\n",
      "Epoch 4/10\n",
      "25000/25000 [==============================] - 18s 723us/step - loss: 0.4170 - acc: 0.8166 - val_loss: 0.4332 - val_acc: 0.8018\n",
      "Epoch 5/10\n",
      "25000/25000 [==============================] - 18s 719us/step - loss: 0.3851 - acc: 0.8347 - val_loss: 0.4234 - val_acc: 0.8048\n",
      "Epoch 6/10\n",
      "25000/25000 [==============================] - 18s 719us/step - loss: 0.3625 - acc: 0.8464 - val_loss: 0.4044 - val_acc: 0.8191\n",
      "Epoch 7/10\n",
      "25000/25000 [==============================] - 17s 696us/step - loss: 0.3398 - acc: 0.8594 - val_loss: 0.4147 - val_acc: 0.8112\n",
      "Epoch 8/10\n",
      "25000/25000 [==============================] - 17s 666us/step - loss: 0.3261 - acc: 0.8662 - val_loss: 0.4037 - val_acc: 0.8156\n",
      "Epoch 9/10\n",
      "25000/25000 [==============================] - 17s 663us/step - loss: 0.3140 - acc: 0.8738 - val_loss: 0.4501 - val_acc: 0.8093\n",
      "Epoch 10/10\n",
      "25000/25000 [==============================] - 17s 667us/step - loss: 0.3045 - acc: 0.8783 - val_loss: 0.3930 - val_acc: 0.8244\n"
     ]
    }
   ],
   "source": [
    "simple_model.compile('adadelta', 'binary_crossentropy', metrics=['accuracy'])\n",
    "\n",
    "history_simple = simple_model.fit(\n",
    "    x_train_pad, y_train,\n",
    "    batch_size=batch_size,\n",
    "    epochs=10,\n",
    "    shuffle=True,\n",
    "    validation_data=[x_test_pad, y_test])"
   ]
  },
  {
   "cell_type": "code",
   "execution_count": 14,
   "metadata": {},
   "outputs": [
    {
     "data": {
      "image/png": "[encoded data removed]",
      "text/plain": [
       "<matplotlib.figure.Figure at 0x7f1f18d78c50>"
      ]
     },
     "metadata": {},
     "output_type": "display_data"
    }
   ],
   "source": [
    "fig, (ax1, ax2) = plt.subplots(1, 2, figsize=(10, 5))\n",
    "\n",
    "ax1.plot(history_simple.epoch, history_simple.history['loss'], label='Train')\n",
    "ax1.plot(history_simple.epoch, history_simple.history['val_loss'], label='Valid')\n",
    "ax1.set_ylabel('Loss')\n",
    "\n",
    "ax2.plot(history_simple.epoch, history_simple.history['acc'], label='Train')\n",
    "ax2.plot(history_simple.epoch, history_simple.history['val_acc'], label='Valid')\n",
    "ax2.set_ylabel('Accuracy')\n",
    "\n",
    "for ax in (ax1, ax2):\n",
    "    ax.set_xticks(history_simple.epoch)\n",
    "    ax.set_xlabel('Epoch')\n",
    "    ax.legend()\n",
    "\n",
    "None"
   ]
  },
  {
   "cell_type": "markdown",
   "metadata": {},
   "source": [
    "Um zu visualisieren, was das LSTM tatsächlich gelernt hat, können wir uns den Verlauf des internen Zustands über die Sequenz ansehen. Dafür konfigurieren wir das LSTM zuerst so, dass es den internen Zustand zu jedem Zeitpunkt zurückgibt und erstellen ein Keras-Modell, welches den internen Zustand des LSTMs zurück gibt. In dieser Visualisierung kann man gut erkennen, dass ein großteil des LSTM-Zustands von positiven oder negativen Wörtern dominiert wird."
   ]
  },
  {
   "cell_type": "code",
   "execution_count": 15,
   "metadata": {
    "collapsed": true
   },
   "outputs": [],
   "source": [
    "lstm_layer.return_sequences = True\n",
    "\n",
    "state_out = sequence_embeddings(sequence_input)\n",
    "state_out = lstm_layer(state_out)\n",
    "\n",
    "state_model = km.Model(inputs=sequence_input, outputs=state_out)\n",
    "\n",
    "lstm_layer.return_sequences = False"
   ]
  },
  {
   "cell_type": "code",
   "execution_count": 16,
   "metadata": {
    "collapsed": true
   },
   "outputs": [],
   "source": [
    "def normalize(x):\n",
    "    y = x - x.mean(0)\n",
    "    y /= y.std(0)\n",
    "    return y"
   ]
  },
  {
   "cell_type": "code",
   "execution_count": 17,
   "metadata": {
    "collapsed": true
   },
   "outputs": [],
   "source": [
    "def plot_hidden_state(sample_idx):\n",
    "    \n",
    "    img, = state_model.predict(x_train_pad[sample_idx:sample_idx+1])\n",
    "    \n",
    "    fig, ax = plt.subplots(1,1, figsize=(5, 17))\n",
    "\n",
    "    mappable = ax.imshow(normalize(img), cmap='RdBu_r', aspect='auto')\n",
    "\n",
    "    ax.set_yticks(np.arange(100))\n",
    "    ax.set_yticklabels(features_to_text(x_test_pad[sample_idx]).split(' '))"
   ]
  },
  {
   "cell_type": "code",
   "execution_count": 18,
   "metadata": {},
   "outputs": [
    {
     "data": {
      "application/vnd.jupyter.widget-view+json": {
       "model_id": "a79b369805aa4cb2845179b3018f0210",
       "version_major": 2,
       "version_minor": 0
      },
      "text/plain": [
       "A Jupyter Widget"
      ]
     },
     "metadata": {},
     "output_type": "display_data"
    }
   ],
   "source": [
    "ipw.interact(plot_hidden_state, sample_idx=ipw.IntSlider(min=0, max=25000, continuous_update=False))\n",
    "\n",
    "None"
   ]
  },
  {
   "cell_type": "code",
   "execution_count": null,
   "metadata": {
    "collapsed": true
   },
   "outputs": [],
   "source": []
  }
 ],
 "metadata": {
  "kernelspec": {
   "display_name": "Python 3",
   "language": "python",
   "name": "python3"
  },
  "language_info": {
   "codemirror_mode": {
    "name": "ipython",
    "version": 3
   },
   "file_extension": ".py",
   "mimetype": "text/x-python",
   "name": "python",
   "nbconvert_exporter": "python",
   "pygments_lexer": "ipython3",
   "version": "3.6.2"
  }
 },
 "nbformat": 4,
 "nbformat_minor": 2
}
