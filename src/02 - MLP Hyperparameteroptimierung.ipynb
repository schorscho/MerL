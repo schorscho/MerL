{
 "cells": [
  {
   "cell_type": "code",
   "execution_count": 6,
   "metadata": {
    "collapsed": true
   },
   "outputs": [],
   "source": [
    "import itertools as it\n",
    "\n",
    "from keras.datasets import fashion_mnist\n",
    "\n",
    "import keras\n",
    "import keras.layers as kl\n",
    "import keras.models as km\n",
    "import keras.regularizers as kr\n",
    "\n",
    "import pandas as pd\n",
    "\n",
    "import matplotlib.pyplot as plt\n",
    "%matplotlib inline"
   ]
  },
  {
   "cell_type": "markdown",
   "metadata": {},
   "source": [
    "Wir definieren die globalen Parameter wie zuvor"
   ]
  },
  {
   "cell_type": "code",
   "execution_count": 2,
   "metadata": {
    "collapsed": true
   },
   "outputs": [],
   "source": [
    "batch_size = 128\n",
    "num_classes = 10\n",
    "epochs = 20"
   ]
  },
  {
   "cell_type": "markdown",
   "metadata": {},
   "source": [
    "Auch die Datenvorberarbeitung erfolgt wie vorher, mit dem Unterschied, dass wir nun Fashion-MNIST von Zalando verwenden."
   ]
  },
  {
   "cell_type": "code",
   "execution_count": 3,
   "metadata": {},
   "outputs": [
    {
     "name": "stdout",
     "output_type": "stream",
     "text": [
      "Downloading data from http://fashion-mnist.s3-website.eu-central-1.amazonaws.com/train-labels-idx1-ubyte.gz\n",
      "32768/29515 [=================================] - 0s 3us/step\n",
      "Downloading data from http://fashion-mnist.s3-website.eu-central-1.amazonaws.com/train-images-idx3-ubyte.gz\n",
      "26427392/26421880 [==============================] - 3s 0us/step\n",
      "Downloading data from http://fashion-mnist.s3-website.eu-central-1.amazonaws.com/t10k-labels-idx1-ubyte.gz\n",
      "8192/5148 [===============================================] - 0s 0us/step\n",
      "Downloading data from http://fashion-mnist.s3-website.eu-central-1.amazonaws.com/t10k-images-idx3-ubyte.gz\n",
      "4423680/4422102 [==============================] - 2s 0us/step\n"
     ]
    }
   ],
   "source": [
    "(x_train, y_train), (x_test, y_test) = fashion_mnist.load_data()\n",
    "\n",
    "x_train = x_train.reshape(60000, 784)\n",
    "x_test = x_test.reshape(10000, 784)\n",
    "\n",
    "x_train = x_train.astype('float32')\n",
    "x_test = x_test.astype('float32')\n",
    "\n",
    "x_train /= 255\n",
    "x_test /= 255\n",
    "\n",
    "y_train = keras.utils.to_categorical(y_train, num_classes)\n",
    "y_test = keras.utils.to_categorical(y_test, num_classes)"
   ]
  },
  {
   "cell_type": "code",
   "execution_count": 13,
   "metadata": {},
   "outputs": [
    {
     "data": {
      "image/png": "[encoded data removed]",
      "text/plain": [
       "<matplotlib.figure.Figure at 0x7f01a63dc588>"
      ]
     },
     "metadata": {},
     "output_type": "display_data"
    }
   ],
   "source": [
    "fig, axes = plt.subplots(3, 3, figsize=(10, 10))\n",
    "\n",
    "for image, ax in zip(x_train, axes.flat):\n",
    "    ax.imshow(image.reshape(28, 28), cmap='binary')\n",
    "    ax.set_axis_off()"
   ]
  },
  {
   "cell_type": "markdown",
   "metadata": {},
   "source": [
    "Anstatt das Modell direkt zu definieren, definieren wir eine Funktion, die ein Modell erzeugt. Die Argumente dieser Funktion sind die Hyperparameter des Modells. Dadurch können wir leicht verschiedene Parameter ausprobieren.\n",
    "\n",
    "Um das Modell zu definieren, verwenden wir die [Funktionale API von Keras](https://keras.io/getting-started/functional-api-guide/). In dieser API werden die verschiedenen Layer zunächst erzeugt und dann auf einen Tensor angewendet. Die Rückgabe ist wieder ein Tensor, auf den andere Layer angewendet werden können. Auf diese Art können komplexe Netzwerke mit mehreren Ein- und Ausgabeschichten erzeugt werden."
   ]
  },
  {
   "cell_type": "code",
   "execution_count": 14,
   "metadata": {
    "collapsed": true
   },
   "outputs": [],
   "source": [
    "def make_mnist_model(l2_reg=1e-4, dropout_p=0.2, layers=2, units=512, activation='relu', optimizer='adam'):\n",
    "\n",
    "    image_input = kl.Input(shape=(784,))\n",
    "\n",
    "    output = image_input\n",
    "    \n",
    "    regularizer = kr.l2(l2_reg)\n",
    "    \n",
    "    for layer in range(layers):\n",
    "        output = kl.Dense(units, activation=activation, kernel_regularizer=regularizer)(output)\n",
    "        if dropout_p > 0:\n",
    "            output = kl.Dropout(dropout_p)(output)\n",
    "            \n",
    "    output = kl.Dense(10, activation='softmax', kernel_regularizer=regularizer)(output)\n",
    "    \n",
    "    mnist_model = km.Model(inputs=image_input, outputs=output)\n",
    "    \n",
    "    mnist_model.compile(optimizer=optimizer, loss='categorical_crossentropy', metrics=['accuracy'])\n",
    "    \n",
    "    return mnist_model"
   ]
  },
  {
   "cell_type": "markdown",
   "metadata": {},
   "source": [
    "Nun definieren wir noch eine Funktion, die ein gegebenes Modell für eine bestimmte Anzahl an Epochen trainiert und auf den Testdaten evaluiert."
   ]
  },
  {
   "cell_type": "code",
   "execution_count": 15,
   "metadata": {
    "collapsed": true
   },
   "outputs": [],
   "source": [
    "def run_model(mnist_model, epochs=10):\n",
    "    \n",
    "    mnist_model.fit(x_train, y_train, batch_size=batch_size, epochs=epochs, verbose=0)\n",
    "    \n",
    "    scores = mnist_model.evaluate(x_test, y_test, batch_size=batch_size, verbose=0)\n",
    "    \n",
    "    print(f\"Loss: {scores[0]:.4f}, Accuracy: {scores[1]:.2f}\")\n",
    "    \n",
    "    return dict(zip(['Loss', 'Accuracy'], scores))"
   ]
  },
  {
   "cell_type": "markdown",
   "metadata": {},
   "source": [
    "In diesem Notebook werden wir einen simplen Grid-Search verwenden, um optimalere Hyperparameter für unser MLP zu finden. Da Neuronale Netze typischerweise wesentlich länger trainieren (Stunden bis Wochen) und viele Parameterkombinationen ungünstig sein können, werden typischerweise andere Strategien wie Randomized Optimization oder Bayesian Optimization verwendet.\n",
    "\n",
    "Bei Randomized Optimization werden die Werte der Hyperparameter unabhängig voneinander aus Verteilungen gezogen. Dies erlaubt, die Optimierung trivial zu parallelisieren. Bei Bayesian Optimization wird versucht, die Genauigkeit eines Modells in Abhängigkeit der Hyperparameter durch eine Stellvertreterfunktion anzunähern. Diese Funktion wird dann verwendet um den nächstbesten Satz an Hyperparametern zu finden. Diese Verfahren werden in der [Dokumentation von scikit-optimize](https://scikit-optimize.github.io/notebooks/strategy-comparison.html) gut illustriert.\n",
    "\n",
    "Wir definieren zuerst die verschiedenen Werte, die die Hyperparameter annehmen können"
   ]
  },
  {
   "cell_type": "code",
   "execution_count": 16,
   "metadata": {
    "collapsed": true
   },
   "outputs": [],
   "source": [
    "units = [64, 128, 256, 512]\n",
    "layers = [1, 2, 3]\n",
    "dropout_p = [0., 0.2, 0.5]\n",
    "l2_reg = [0., 1e-3, 1e-4]\n",
    "\n",
    "param_names = ['units', 'layers', 'dropout_p', 'l2_reg']"
   ]
  },
  {
   "cell_type": "markdown",
   "metadata": {},
   "source": [
    "Nun iterieren wir über alle Kombinationen von Hyperparametern, erstellen ein entsprechendes Modell und zeichnen das Ergebnis der Evaluation nach 5 Epochen auf. Dies geschieht hier aus Zeitgründen. Normalerweise werden die Netzwerke bis zur Konvergenz trainiert."
   ]
  },
  {
   "cell_type": "code",
   "execution_count": null,
   "metadata": {},
   "outputs": [],
   "source": [
    "results = []\n",
    "\n",
    "# it.product ist wie ein geschachtelter for-loop\n",
    "for params in it.product(units, layers, dropout_p, l2_reg):\n",
    "    \n",
    "    setup_dict = dict(zip(param_names, params))\n",
    "    \n",
    "    model = make_mnist_model(**setup_dict)\n",
    "    scores = run_model(model, 5)\n",
    "    \n",
    "    setup_dict.update(scores)\n",
    "    \n",
    "    results.append(setup_dict)"
   ]
  },
  {
   "cell_type": "markdown",
   "metadata": {},
   "source": [
    "Wir lassen uns nun die Top 10 Konfigurationen nach Loss zeigen."
   ]
  },
  {
   "cell_type": "code",
   "execution_count": 31,
   "metadata": {},
   "outputs": [
    {
     "data": {
      "text/html": [
       "<div>\n",
       "<style>\n",
       "    .dataframe thead tr:only-child th {\n",
       "        text-align: right;\n",
       "    }\n",
       "\n",
       "    .dataframe thead th {\n",
       "        text-align: left;\n",
       "    }\n",
       "\n",
       "    .dataframe tbody tr th {\n",
       "        vertical-align: top;\n",
       "    }\n",
       "</style>\n",
       "<table border=\"1\" class=\"dataframe\">\n",
       "  <thead>\n",
       "    <tr style=\"text-align: right;\">\n",
       "      <th></th>\n",
       "      <th>Accuracy</th>\n",
       "      <th>Loss</th>\n",
       "      <th>dropout_p</th>\n",
       "      <th>l2_reg</th>\n",
       "      <th>layers</th>\n",
       "      <th>units</th>\n",
       "    </tr>\n",
       "  </thead>\n",
       "  <tbody>\n",
       "    <tr>\n",
       "      <th>102</th>\n",
       "      <td>0.9805</td>\n",
       "      <td>0.063196</td>\n",
       "      <td>0.2</td>\n",
       "      <td>0.0</td>\n",
       "      <td>3</td>\n",
       "      <td>512</td>\n",
       "    </tr>\n",
       "    <tr>\n",
       "      <th>81</th>\n",
       "      <td>0.9807</td>\n",
       "      <td>0.064307</td>\n",
       "      <td>0.0</td>\n",
       "      <td>0.0</td>\n",
       "      <td>1</td>\n",
       "      <td>512</td>\n",
       "    </tr>\n",
       "    <tr>\n",
       "      <th>93</th>\n",
       "      <td>0.9795</td>\n",
       "      <td>0.065778</td>\n",
       "      <td>0.2</td>\n",
       "      <td>0.0</td>\n",
       "      <td>2</td>\n",
       "      <td>512</td>\n",
       "    </tr>\n",
       "    <tr>\n",
       "      <th>66</th>\n",
       "      <td>0.9787</td>\n",
       "      <td>0.066337</td>\n",
       "      <td>0.2</td>\n",
       "      <td>0.0</td>\n",
       "      <td>2</td>\n",
       "      <td>256</td>\n",
       "    </tr>\n",
       "    <tr>\n",
       "      <th>84</th>\n",
       "      <td>0.9789</td>\n",
       "      <td>0.069252</td>\n",
       "      <td>0.2</td>\n",
       "      <td>0.0</td>\n",
       "      <td>1</td>\n",
       "      <td>512</td>\n",
       "    </tr>\n",
       "    <tr>\n",
       "      <th>63</th>\n",
       "      <td>0.9796</td>\n",
       "      <td>0.070304</td>\n",
       "      <td>0.0</td>\n",
       "      <td>0.0</td>\n",
       "      <td>2</td>\n",
       "      <td>256</td>\n",
       "    </tr>\n",
       "    <tr>\n",
       "      <th>75</th>\n",
       "      <td>0.9775</td>\n",
       "      <td>0.070461</td>\n",
       "      <td>0.2</td>\n",
       "      <td>0.0</td>\n",
       "      <td>3</td>\n",
       "      <td>256</td>\n",
       "    </tr>\n",
       "    <tr>\n",
       "      <th>96</th>\n",
       "      <td>0.9773</td>\n",
       "      <td>0.070501</td>\n",
       "      <td>0.5</td>\n",
       "      <td>0.0</td>\n",
       "      <td>2</td>\n",
       "      <td>512</td>\n",
       "    </tr>\n",
       "    <tr>\n",
       "      <th>99</th>\n",
       "      <td>0.9807</td>\n",
       "      <td>0.071412</td>\n",
       "      <td>0.0</td>\n",
       "      <td>0.0</td>\n",
       "      <td>3</td>\n",
       "      <td>512</td>\n",
       "    </tr>\n",
       "    <tr>\n",
       "      <th>87</th>\n",
       "      <td>0.9780</td>\n",
       "      <td>0.072587</td>\n",
       "      <td>0.5</td>\n",
       "      <td>0.0</td>\n",
       "      <td>1</td>\n",
       "      <td>512</td>\n",
       "    </tr>\n",
       "  </tbody>\n",
       "</table>\n",
       "</div>"
      ],
      "text/plain": [
       "     Accuracy      Loss  dropout_p  l2_reg  layers  units\n",
       "102    0.9805  0.063196        0.2     0.0       3    512\n",
       "81     0.9807  0.064307        0.0     0.0       1    512\n",
       "93     0.9795  0.065778        0.2     0.0       2    512\n",
       "66     0.9787  0.066337        0.2     0.0       2    256\n",
       "84     0.9789  0.069252        0.2     0.0       1    512\n",
       "63     0.9796  0.070304        0.0     0.0       2    256\n",
       "75     0.9775  0.070461        0.2     0.0       3    256\n",
       "96     0.9773  0.070501        0.5     0.0       2    512\n",
       "99     0.9807  0.071412        0.0     0.0       3    512\n",
       "87     0.9780  0.072587        0.5     0.0       1    512"
      ]
     },
     "execution_count": 31,
     "metadata": {},
     "output_type": "execute_result"
    }
   ],
   "source": [
    "pd.DataFrame(results).sort_values('Loss').head(10)"
   ]
  },
  {
   "cell_type": "code",
   "execution_count": null,
   "metadata": {
    "collapsed": true
   },
   "outputs": [],
   "source": []
  }
 ],
 "metadata": {
  "kernelspec": {
   "display_name": "Python 3",
   "language": "python",
   "name": "python3"
  },
  "language_info": {
   "codemirror_mode": {
    "name": "ipython",
    "version": 3
   },
   "file_extension": ".py",
   "mimetype": "text/x-python",
   "name": "python",
   "nbconvert_exporter": "python",
   "pygments_lexer": "ipython3",
   "version": "3.6.3"
  }
 },
 "nbformat": 4,
 "nbformat_minor": 2
}
