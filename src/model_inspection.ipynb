{
 "cells": [
  {
   "cell_type": "code",
   "execution_count": 1,
   "metadata": {},
   "outputs": [
    {
     "name": "stderr",
     "output_type": "stream",
     "text": [
      "Using TensorFlow backend.\n"
     ]
    }
   ],
   "source": [
    "from keras.utils.vis_utils import model_to_dot\n",
    "\n",
    "#import matplotlib.pyplot as plt\n",
    "#%matplotlib inline\n",
    "\n",
    "from IPython.display import SVG\n",
    "\n",
    "#import ipywidgets as ipw\n",
    "\n",
    "import data_preparation as mdp"
   ]
  },
  {
   "cell_type": "code",
   "execution_count": 2,
   "metadata": {},
   "outputs": [],
   "source": [
    "model = mdp.load_keras_model('TR006_MV01R00_OV01R00_WP03R00_DP01R00_SE00_EE10_EP10-0.4146_20180130-194238.hdf5')"
   ]
  },
  {
   "cell_type": "code",
   "execution_count": 3,
   "metadata": {},
   "outputs": [],
   "source": [
    "SVG(model_to_dot(model).create(prog='dot', format='svg'))"
   ]
  },
  {
   "cell_type": "code",
   "execution_count": 4,
   "metadata": {},
   "outputs": [
    {
     "name": "stdout",
     "output_type": "stream",
     "text": [
      "__________________________________________________________________________________________________\n",
      "Layer (type)                    Output Shape         Param #     Connected to                     \n",
      "==================================================================================================\n",
      "name_input (InputLayer)         (None, 21)           0                                            \n",
      "__________________________________________________________________________________________________\n",
      "item_desc_input (InputLayer)    (None, 301)          0                                            \n",
      "__________________________________________________________________________________________________\n",
      "name_embedding (Embedding)      (None, 21, 32)       992256      name_input[0][0]                 \n",
      "__________________________________________________________________________________________________\n",
      "item_desc_embedding (Embedding) (None, 301, 32)      1280256     item_desc_input[0][0]            \n",
      "__________________________________________________________________________________________________\n",
      "name_embedding_dropout (Spatial (None, 21, 32)       0           name_embedding[0][0]             \n",
      "__________________________________________________________________________________________________\n",
      "item_desc_embedding_dropout (Sp (None, 301, 32)      0           item_desc_embedding[0][0]        \n",
      "__________________________________________________________________________________________________\n",
      "name_lstm_1 (CuDNNLSTM)         (None, 21, 100)      53600       name_embedding_dropout[0][0]     \n",
      "__________________________________________________________________________________________________\n",
      "item_desc_lstm_1 (CuDNNLSTM)    (None, 301, 200)     187200      item_desc_embedding_dropout[0][0]\n",
      "__________________________________________________________________________________________________\n",
      "category_input (InputLayer)     (None, 1)            0                                            \n",
      "__________________________________________________________________________________________________\n",
      "brand_input (InputLayer)        (None, 1)            0                                            \n",
      "__________________________________________________________________________________________________\n",
      "name_lstm_2 (CuDNNLSTM)         (None, 100)          80800       name_lstm_1[0][0]                \n",
      "__________________________________________________________________________________________________\n",
      "item_desc_lstm_2 (CuDNNLSTM)    (None, 200)          321600      item_desc_lstm_1[0][0]           \n",
      "__________________________________________________________________________________________________\n",
      "category_embedding (Embedding)  (None, 1, 10)        10980       category_input[0][0]             \n",
      "__________________________________________________________________________________________________\n",
      "brand_embedding (Embedding)     (None, 1, 10)        27670       brand_input[0][0]                \n",
      "__________________________________________________________________________________________________\n",
      "name_lstm_dropout (Dropout)     (None, 100)          0           name_lstm_2[0][0]                \n",
      "__________________________________________________________________________________________________\n",
      "item_desc_lstm_dropout (Dropout (None, 200)          0           item_desc_lstm_2[0][0]           \n",
      "__________________________________________________________________________________________________\n",
      "category_reshape (Reshape)      (None, 10)           0           category_embedding[0][0]         \n",
      "__________________________________________________________________________________________________\n",
      "brand_reshape (Reshape)         (None, 10)           0           brand_embedding[0][0]            \n",
      "__________________________________________________________________________________________________\n",
      "feature_input (InputLayer)      (None, 2)            0                                            \n",
      "__________________________________________________________________________________________________\n",
      "input_fusion (Concatenate)      (None, 322)          0           name_lstm_dropout[0][0]          \n",
      "                                                                 item_desc_lstm_dropout[0][0]     \n",
      "                                                                 category_reshape[0][0]           \n",
      "                                                                 brand_reshape[0][0]              \n",
      "                                                                 feature_input[0][0]              \n",
      "__________________________________________________________________________________________________\n",
      "fusion_dense_1 (Dense)          (None, 400)          129200      input_fusion[0][0]               \n",
      "__________________________________________________________________________________________________\n",
      "fusion_dense_2 (Dense)          (None, 200)          80200       fusion_dense_1[0][0]             \n",
      "__________________________________________________________________________________________________\n",
      "fusion_dense_3 (Dense)          (None, 1)            201         fusion_dense_2[0][0]             \n",
      "==================================================================================================\n",
      "Total params: 3,163,963\n",
      "Trainable params: 3,163,963\n",
      "Non-trainable params: 0\n",
      "__________________________________________________________________________________________________\n"
     ]
    }
   ],
   "source": [
    "model.summary()"
   ]
  },
  {
   "cell_type": "code",
   "execution_count": null,
   "metadata": {},
   "outputs": [],
   "source": []
  }
 ],
 "metadata": {
  "kernelspec": {
   "display_name": "Python 3",
   "language": "python",
   "name": "python3"
  },
  "language_info": {
   "codemirror_mode": {
    "name": "ipython",
    "version": 3
   },
   "file_extension": ".py",
   "mimetype": "text/x-python",
   "name": "python",
   "nbconvert_exporter": "python",
   "pygments_lexer": "ipython3",
   "version": "3.5.2"
  }
 },
 "nbformat": 4,
 "nbformat_minor": 2
}
