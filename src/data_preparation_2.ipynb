{
 "cells": [
  {
   "cell_type": "code",
   "execution_count": 1,
   "metadata": {},
   "outputs": [],
   "source": [
    "import os\n",
    "import pandas as pd\n",
    "import numpy as np\n",
    "import spacy\n",
    "from spacy.tokenizer import Tokenizer\n",
    "from ipywidgets import IntProgress\n",
    "from IPython.display import display\n",
    "import timer\n",
    "from mercari_config import MercariConfig\n",
    "\n",
    "nlp = spacy.load('en')\n",
    "tokenizer = Tokenizer(nlp.vocab)"
   ]
  },
  {
   "cell_type": "code",
   "execution_count": 2,
   "metadata": {},
   "outputs": [
    {
     "name": "stderr",
     "output_type": "stream",
     "text": [
      "/home/ubuntu/pie352-tf14/lib/python3.5/site-packages/numpy/lib/arraysetops.py:463: FutureWarning: elementwise comparison failed; returning scalar instead, but in the future will perform elementwise comparison\n",
      "  mask |= (ar1 == a)\n"
     ]
    }
   ],
   "source": [
    "df = pd.read_csv(filepath_or_buffer=os.path.join(MercariConfig.DATASETS_DIR, MercariConfig.WORD_2_INDEX_FILE), \n",
    "                    header=0, , index_col=['word'])\n",
    "\n"
   ]
  },
  {
   "cell_type": "code",
   "execution_count": 3,
   "metadata": {},
   "outputs": [
    {
     "data": {
      "text/plain": [
       "1482535"
      ]
     },
     "execution_count": 3,
     "metadata": {},
     "output_type": "execute_result"
    }
   ],
   "source": [
    "set_len = len(df)\n",
    "set_len"
   ]
  },
  {
   "cell_type": "code",
   "execution_count": 4,
   "metadata": {},
   "outputs": [
    {
     "data": {
      "text/plain": [
       "name                 1482535\n",
       "item_condition_id    1482535\n",
       "category_name        1476208\n",
       "brand_name            849853\n",
       "price                1482535\n",
       "shipping             1482535\n",
       "item_description     1482531\n",
       "dtype: int64"
      ]
     },
     "execution_count": 4,
     "metadata": {},
     "output_type": "execute_result"
    }
   ],
   "source": [
    "df.count()"
   ]
  },
  {
   "cell_type": "code",
   "execution_count": 5,
   "metadata": {},
   "outputs": [],
   "source": [
    "df['category_name'].fillna(value=MercariConfig.EMPTY_CAT, inplace=True)"
   ]
  },
  {
   "cell_type": "code",
   "execution_count": 6,
   "metadata": {},
   "outputs": [],
   "source": [
    "assert(len(df[df.category_name.isnull()]) == 0)"
   ]
  },
  {
   "cell_type": "code",
   "execution_count": 7,
   "metadata": {},
   "outputs": [],
   "source": [
    "df['brand_name'].fillna(value=MercariConfig.EMPTY_BRAND, inplace=True)"
   ]
  },
  {
   "cell_type": "code",
   "execution_count": 8,
   "metadata": {},
   "outputs": [],
   "source": [
    "assert(len(df[df.brand_name.isnull()]) == 0)"
   ]
  },
  {
   "cell_type": "code",
   "execution_count": 9,
   "metadata": {},
   "outputs": [
    {
     "data": {
      "text/html": [
       "<div>\n",
       "<style scoped>\n",
       "    .dataframe tbody tr th:only-of-type {\n",
       "        vertical-align: middle;\n",
       "    }\n",
       "\n",
       "    .dataframe tbody tr th {\n",
       "        vertical-align: top;\n",
       "    }\n",
       "\n",
       "    .dataframe thead th {\n",
       "        text-align: right;\n",
       "    }\n",
       "</style>\n",
       "<table border=\"1\" class=\"dataframe\">\n",
       "  <thead>\n",
       "    <tr style=\"text-align: right;\">\n",
       "      <th></th>\n",
       "      <th>name</th>\n",
       "      <th>item_condition_id</th>\n",
       "      <th>category_name</th>\n",
       "      <th>brand_name</th>\n",
       "      <th>price</th>\n",
       "      <th>shipping</th>\n",
       "      <th>item_description</th>\n",
       "    </tr>\n",
       "    <tr>\n",
       "      <th>train_id</th>\n",
       "      <th></th>\n",
       "      <th></th>\n",
       "      <th></th>\n",
       "      <th></th>\n",
       "      <th></th>\n",
       "      <th></th>\n",
       "      <th></th>\n",
       "    </tr>\n",
       "  </thead>\n",
       "  <tbody>\n",
       "    <tr>\n",
       "      <th>511535</th>\n",
       "      <td>Shoes for Michelle</td>\n",
       "      <td>4</td>\n",
       "      <td>Kids/Girls 0-24 Mos/Shoes</td>\n",
       "      <td>___VERY_EMPTY_BRAND___</td>\n",
       "      <td>9.0</td>\n",
       "      <td>0</td>\n",
       "      <td>NaN</td>\n",
       "    </tr>\n",
       "    <tr>\n",
       "      <th>861230</th>\n",
       "      <td>Lipgloss</td>\n",
       "      <td>4</td>\n",
       "      <td>Beauty/Makeup/Lips</td>\n",
       "      <td>___VERY_EMPTY_BRAND___</td>\n",
       "      <td>49.0</td>\n",
       "      <td>0</td>\n",
       "      <td>NaN</td>\n",
       "    </tr>\n",
       "    <tr>\n",
       "      <th>1224924</th>\n",
       "      <td>Disney Minnie Head band</td>\n",
       "      <td>3</td>\n",
       "      <td>Women/Women's Accessories/Hair Accessories</td>\n",
       "      <td>Disney</td>\n",
       "      <td>9.0</td>\n",
       "      <td>0</td>\n",
       "      <td>NaN</td>\n",
       "    </tr>\n",
       "    <tr>\n",
       "      <th>1264242</th>\n",
       "      <td>For Bianca</td>\n",
       "      <td>3</td>\n",
       "      <td>Women/Women's Accessories/Scarves &amp; Wraps</td>\n",
       "      <td>___VERY_EMPTY_BRAND___</td>\n",
       "      <td>10.0</td>\n",
       "      <td>1</td>\n",
       "      <td>NaN</td>\n",
       "    </tr>\n",
       "  </tbody>\n",
       "</table>\n",
       "</div>"
      ],
      "text/plain": [
       "                             name  item_condition_id  \\\n",
       "train_id                                               \n",
       "511535         Shoes for Michelle                  4   \n",
       "861230                   Lipgloss                  4   \n",
       "1224924   Disney Minnie Head band                  3   \n",
       "1264242                For Bianca                  3   \n",
       "\n",
       "                                       category_name              brand_name  \\\n",
       "train_id                                                                       \n",
       "511535                     Kids/Girls 0-24 Mos/Shoes  ___VERY_EMPTY_BRAND___   \n",
       "861230                            Beauty/Makeup/Lips  ___VERY_EMPTY_BRAND___   \n",
       "1224924   Women/Women's Accessories/Hair Accessories                  Disney   \n",
       "1264242    Women/Women's Accessories/Scarves & Wraps  ___VERY_EMPTY_BRAND___   \n",
       "\n",
       "          price  shipping item_description  \n",
       "train_id                                    \n",
       "511535      9.0         0              NaN  \n",
       "861230     49.0         0              NaN  \n",
       "1224924     9.0         0              NaN  \n",
       "1264242    10.0         1              NaN  "
      ]
     },
     "execution_count": 9,
     "metadata": {},
     "output_type": "execute_result"
    }
   ],
   "source": [
    "df[df.item_description.isnull()]"
   ]
  },
  {
   "cell_type": "code",
   "execution_count": 10,
   "metadata": {},
   "outputs": [],
   "source": [
    "df['item_description'].fillna(value=MercariConfig.EMPTY_DESC, inplace=True)"
   ]
  },
  {
   "cell_type": "code",
   "execution_count": 11,
   "metadata": {},
   "outputs": [],
   "source": [
    "assert(len(df[df.item_description.isnull()]) == 0)"
   ]
  },
  {
   "cell_type": "code",
   "execution_count": null,
   "metadata": {},
   "outputs": [],
   "source": [
    "#df2 = df.head(10000)\n",
    "#df = df2.append(df.loc[511535])\n",
    "#set_len = len(df)"
   ]
  },
  {
   "cell_type": "code",
   "execution_count": null,
   "metadata": {
    "scrolled": false
   },
   "outputs": [
    {
     "data": {
      "application/vnd.jupyter.widget-view+json": {
       "model_id": "e92c16e0e07a40a0ad5b67063ec826d5",
       "version_major": 2,
       "version_minor": 0
      },
      "text/html": [
       "<p>Failed to display Jupyter Widget of type <code>IntProgress</code>.</p>\n",
       "<p>\n",
       "  If you're reading this message in the Jupyter Notebook or JupyterLab Notebook, it may mean\n",
       "  that the widgets JavaScript is still loading. If this message persists, it\n",
       "  likely means that the widgets JavaScript library is either not installed or\n",
       "  not enabled. See the <a href=\"https://ipywidgets.readthedocs.io/en/stable/user_install.html\">Jupyter\n",
       "  Widgets Documentation</a> for setup instructions.\n",
       "</p>\n",
       "<p>\n",
       "  If you're reading this message in another frontend (for example, a static\n",
       "  rendering on GitHub or <a href=\"https://nbviewer.jupyter.org/\">NBViewer</a>),\n",
       "  it may mean that your frontend doesn't currently support widgets.\n",
       "</p>\n"
      ],
      "text/plain": [
       "IntProgress(value=0, max=1482535)"
      ]
     },
     "metadata": {},
     "output_type": "display_data"
    }
   ],
   "source": [
    "word2index = pd.DataFrame(columns=['word', 'word_id', 'count'])\n",
    "word2index = word2index.astype(dtype={'word': str, 'word_id': int, 'count': int})\n",
    "\n",
    "word2index.set_index(['word'], inplace=True)\n",
    "\n",
    "fp = IntProgress(min=0, max=len(df))\n",
    "\n",
    "display(fp)\n",
    "\n",
    "word2index.loc[MercariConfig.PAD] = (0, 0)\n",
    "word2index.loc[MercariConfig.START] = (1, 0)\n",
    "word2index.loc[MercariConfig.OOV] = (2, 0)\n",
    "word2index.loc[MercariConfig.EMPTY_DESC] = (3, 0)\n",
    "\n",
    "max_word_id = 4\n",
    "max_words_in_col = 0\n",
    "\n",
    "with timer.Timer():\n",
    "    for desc in df['item_description']:\n",
    "        desc_doc = tokenizer(desc)\n",
    "        words_in_col = len(desc_doc)\n",
    "\n",
    "        for token in desc_doc:\n",
    "            if not token.text in word2index.index:\n",
    "                word2index.loc[token.text] = (max_word_id, 1)\n",
    "                max_word_id += 1\n",
    "            else:\n",
    "                word2index.at[token.text, 'count'] += 1\n",
    "\n",
    "        max_words_in_col = words_in_col if max_words_in_col < words_in_col else max_words_in_col\n",
    "\n",
    "        fp.value += 1\n",
    "            "
   ]
  },
  {
   "cell_type": "code",
   "execution_count": null,
   "metadata": {},
   "outputs": [],
   "source": [
    "word2index.sort_values(by='word_id').head(10)"
   ]
  },
  {
   "cell_type": "code",
   "execution_count": null,
   "metadata": {},
   "outputs": [],
   "source": [
    "word2index.to_csv(path_or_buf=os.path.join(MercariConfig.DATASETS_DIR, MercariConfig.WORD_2_INDEX_FILE))"
   ]
  },
  {
   "cell_type": "code",
   "execution_count": null,
   "metadata": {},
   "outputs": [],
   "source": [
    "fp = FloatProgress(min=0, max=len(df))\n",
    "\n",
    "display(fp)\n",
    "\n",
    "#df.assign('word_ids')\n",
    "word_ids = np.empty(shape=(set_len, max_words_in_col + 1), dtype=int)\n",
    "i = 0\n",
    "\n",
    "with timer.Timer():\n",
    "    for desc in df.item_description:\n",
    "        desc_doc = tokenizer(desc)\n",
    "        word_id = np.zeros(shape=(max_words_in_col + 1), dtype=int)\n",
    "        j = 1\n",
    "\n",
    "        word_id[0] = 1\n",
    "\n",
    "        for token in desc_doc:\n",
    "            word_id[j] = word2index.at[token.text, 'word_id']\n",
    "            j += 1\n",
    "\n",
    "        word_ids[i] = word_id\n",
    "        i += 1\n",
    "\n",
    "        fp.value += 1\n",
    "\n",
    "    df['item_desc_word_seq'] = word_ids.tolist()"
   ]
  },
  {
   "cell_type": "code",
   "execution_count": null,
   "metadata": {},
   "outputs": [],
   "source": [
    "df.to_csv(path_or_buf=os.path.join(MercariConfig.DATASETS_DIR, MercariConfig.PREP_TRAINING_SET_FILE))"
   ]
  }
 ],
 "metadata": {
  "kernelspec": {
   "display_name": "Python 3",
   "language": "python",
   "name": "python3"
  },
  "language_info": {
   "codemirror_mode": {
    "name": "ipython",
    "version": 3
   },
   "file_extension": ".py",
   "mimetype": "text/x-python",
   "name": "python",
   "nbconvert_exporter": "python",
   "pygments_lexer": "ipython3",
   "version": "3.6.2"
  }
 },
 "nbformat": 4,
 "nbformat_minor": 2
}
