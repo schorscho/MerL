{
 "cells": [
  {
   "cell_type": "code",
   "execution_count": 1,
   "metadata": {},
   "outputs": [
    {
     "name": "stderr",
     "output_type": "stream",
     "text": [
      "Using TensorFlow backend.\n"
     ]
    }
   ],
   "source": [
    "import os\n",
    "import numpy as np\n",
    "\n",
    "from keras.preprocessing import sequence\n",
    "import keras.models as km\n",
    "import keras.layers as kl\n",
    "import keras.constraints as kc\n",
    "from keras.datasets import imdb\n",
    "from keras import losses\n",
    "from keras.models import load_model\n",
    "\n",
    "import matplotlib.pyplot as plt\n",
    "%matplotlib inline\n",
    "\n",
    "import ipywidgets as ipw\n",
    "\n",
    "import data_preparation as mdp\n",
    "from data_preparation import MercariConfig"
   ]
  },
  {
   "cell_type": "code",
   "execution_count": 2,
   "metadata": {},
   "outputs": [],
   "source": [
    "num_words_item_desc = MercariConfig.MAX_WORDS_FROM_INDEX_4_ITEM_DESC + MercariConfig.WORD_I\n",
    "max_seq_len_item_desc = MercariConfig.MAX_WORDS_IN_ITEM_DESC + 1 # Remember: first word is always <START>\n",
    "embedding_dims = 64\n",
    "\n",
    "num_words_name = MercariConfig.MAX_WORDS_FROM_INDEX_4_NAME + MercariConfig.WORD_I\n",
    "max_seq_len_name = MercariConfig.MAX_WORDS_IN_NAME + 1 # Remember: first word is always <START>\n",
    "\n",
    "batch_size = 200"
   ]
  },
  {
   "cell_type": "code",
   "execution_count": 3,
   "metadata": {},
   "outputs": [
    {
     "name": "stderr",
     "output_type": "stream",
     "text": [
      "2018-01-28 19:25:27,686 - MerL.data_preparation - INFO - Loading index_sequence_data from mercari_train_name_index.csv ...\n",
      "2018-01-28 19:25:28,341 - MerL.data_preparation - INFO - Loading index_sequence_data from mercari_train_name_index.csv done.\n",
      "2018-01-28 19:25:28,342 - MerL.data_preparation - INFO - Loading index_sequence_data from mercari_train_item_desc_index.csv ...\n",
      "2018-01-28 19:25:44,188 - MerL.data_preparation - INFO - Loading index_sequence_data from mercari_train_item_desc_index.csv done.\n"
     ]
    },
    {
     "name": "stdout",
     "output_type": "stream",
     "text": [
      "CPU times: user 15.7 s, sys: 1.98 s, total: 17.7 s\n",
      "Wall time: 17.7 s\n"
     ]
    }
   ],
   "source": [
    "%%time\n",
    "\n",
    "train_data = mdp.load_data(MercariConfig.TRAINING_SET_PREP_FILE, sep=',')\n",
    "name_seq_train = mdp.load_index_sequence(MercariConfig.TRAINING_NAME_INDEX_FILE, MercariConfig.MAX_WORDS_IN_NAME)\n",
    "item_desc_seq_train = mdp.load_index_sequence(MercariConfig.TRAINING_ITEM_DESC_INDEX_FILE, MercariConfig.MAX_WORDS_IN_ITEM_DESC)\n",
    "\n",
    "X_name_seq_train = name_seq_train.as_matrix()\n",
    "X_item_desc_seq_train = item_desc_seq_train.as_matrix()\n",
    "x_cat_train = train_data['category_id'].as_matrix()\n",
    "x_brand_train = train_data['brand_id'].as_matrix()\n",
    "x_f_train = train_data[['item_condition_id', 'shipping']].as_matrix()\n",
    "y_train = train_data['price'].as_matrix()"
   ]
  },
  {
   "cell_type": "code",
   "execution_count": 9,
   "metadata": {},
   "outputs": [
    {
     "name": "stdout",
     "output_type": "stream",
     "text": [
      "(296507, 21) (296507, 501) (296507,) (296507,) (296507, 2) (296507,)\n"
     ]
    }
   ],
   "source": [
    "print(X_name_seq_train.shape, X_item_desc_seq_train.shape, \n",
    "      x_cat_train.shape, x_brand_train.shape, x_f_train.shape, y_train.shape)"
   ]
  },
  {
   "cell_type": "code",
   "execution_count": 7,
   "metadata": {},
   "outputs": [
    {
     "name": "stderr",
     "output_type": "stream",
     "text": [
      "2018-01-28 19:27:53,258 - MerL.data_preparation - INFO - Loading index_sequence_data from mercari_val_name_index.csv ...\n",
      "2018-01-28 19:27:53,319 - MerL.data_preparation - INFO - Loading index_sequence_data from mercari_val_name_index.csv done.\n",
      "2018-01-28 19:27:53,320 - MerL.data_preparation - INFO - Loading index_sequence_data from mercari_val_item_desc_index.csv ...\n",
      "2018-01-28 19:27:55,045 - MerL.data_preparation - INFO - Loading index_sequence_data from mercari_val_item_desc_index.csv done.\n"
     ]
    },
    {
     "name": "stdout",
     "output_type": "stream",
     "text": [
      "CPU times: user 1.89 s, sys: 16 ms, total: 1.91 s\n",
      "Wall time: 1.9 s\n"
     ]
    }
   ],
   "source": [
    "%%time\n",
    "\n",
    "val_data = mdp.load_data(MercariConfig.VALIDATION_SET_PREP_FILE, sep=',')\n",
    "name_seq_val = mdp.load_index_sequence(MercariConfig.VALIDATION_NAME_INDEX_FILE, MercariConfig.MAX_WORDS_IN_NAME)\n",
    "item_desc_seq_val = mdp.load_index_sequence(MercariConfig.VALIDATION_ITEM_DESC_INDEX_FILE, MercariConfig.MAX_WORDS_IN_ITEM_DESC)\n",
    "\n",
    "X_name_seq_val = name_seq_val.as_matrix()\n",
    "X_item_desc_seq_val = item_desc_seq_val.as_matrix()\n",
    "x_cat_val = val_data['category_id'].as_matrix()\n",
    "x_brand_val = val_data['brand_id'].as_matrix()\n",
    "x_f_val = val_data[['item_condition_id', 'shipping']].as_matrix()\n",
    "y_val = val_data['price'].as_matrix()"
   ]
  },
  {
   "cell_type": "code",
   "execution_count": 10,
   "metadata": {},
   "outputs": [
    {
     "name": "stdout",
     "output_type": "stream",
     "text": [
      "(29651, 21) (29651, 501) (29651,) (29651,) (29651, 2) (29651,)\n"
     ]
    }
   ],
   "source": [
    "print(X_name_seq_val.shape,X_item_desc_seq_val.shape, \n",
    "      x_cat_val.shape, x_brand_val.shape, x_f_val.shape, y_val.shape)"
   ]
  },
  {
   "cell_type": "code",
   "execution_count": 11,
   "metadata": {
    "scrolled": true
   },
   "outputs": [
    {
     "name": "stdout",
     "output_type": "stream",
     "text": [
      "CPU times: user 4.45 s, sys: 352 ms, total: 4.8 s\n",
      "Wall time: 4.8 s\n"
     ]
    }
   ],
   "source": [
    "%%time\n",
    "\n",
    "X_item_desc_seq_train = sequence.pad_sequences(\n",
    "    X_item_desc_seq_train, maxlen=max_seq_len_item_desc, padding='post', truncating='post')\n",
    "X_name_seq_train = sequence.pad_sequences(\n",
    "    X_name_seq_train, maxlen=max_seq_len_name, padding='post', truncating='post')\n",
    "\n",
    "X_item_desc_seq_val = sequence.pad_sequences(\n",
    "    X_item_desc_seq_val, maxlen=max_seq_len_item_desc, padding='post', truncating='post')\n",
    "X_name_seq_val = sequence.pad_sequences(\n",
    "    X_name_seq_val, maxlen=max_seq_len_name, padding='post', truncating='post')"
   ]
  },
  {
   "cell_type": "code",
   "execution_count": null,
   "metadata": {},
   "outputs": [],
   "source": [
    "feature_input = kl.Input(shape=(2,), name='feature_input')\n",
    "category_input = kl.Input(shape=(1,), name='category_input')\n",
    "brand_input = kl.Input(shape=(1,), name='brand_input')\n",
    "item_desc_input = kl.Input(shape=(max_seq_len_item_desc,), name='item_desc_input')\n",
    "name_input = kl.Input(shape=(max_seq_len_name,), name='name_input')\n",
    "\n",
    "item_desc_embedding = kl.Embedding(num_words_item_desc, embedding_dims, name='item_desc_embedding')\n",
    "item_desc_embedding_dropout = kl.SpatialDropout1D(0.5, name='item_desc_embedding_dropout')\n",
    "item_desc_lstm_1 = kl.CuDNNLSTM(units=200, name='item_desc_lstm_1', return_sequences=True)\n",
    "item_desc_lstm_2 = kl.CuDNNLSTM(units=200, name='item_desc_lstm_2')\n",
    "item_desc_lstm_dropout = kl.Dropout(0.5, name='item_desc_lstm_dropout')\n",
    "\n",
    "name_embedding = kl.Embedding(num_words_name, embedding_dims, name='name_embedding')\n",
    "name_embedding_dropout = kl.SpatialDropout1D(0.5, name='name_embedding_dropout')\n",
    "name_lstm_1 = kl.CuDNNLSTM(units=200, name='name_lstm_1', return_sequences=True)\n",
    "name_lstm_2 = kl.CuDNNLSTM(units=200, name='name_lstm_2')\n",
    "name_lstm_dropout = kl.Dropout(0.5, name='name_lstm_dropout')\n",
    "\n",
    "category_embedding = kl.Embedding(1105, 32, name='category_embedding')\n",
    "category_reshape = kl.Reshape(target_shape=(32,), name='category_reshape')\n",
    "\n",
    "brand_embedding = kl.Embedding(2774, 32, name='brand_embedding')\n",
    "brand_reshape = kl.Reshape(target_shape=(32,), name='brand_reshape')\n",
    "\n",
    "input_fusion = kl.Concatenate(axis=1, name='input_fusion')\n",
    "fusion_dense_1 = kl.Dense(400, activation='relu', name='fusion_dense_1')\n",
    "fusion_dense_2 = kl.Dense(200, activation='relu', name='fusion_dense_2')\n",
    "fusion_dense_3 = kl.Dense(1, activation='relu', name='fusion_dense_3')\n",
    "\n",
    "item_desc_output = item_desc_embedding(item_desc_input)\n",
    "item_desc_output = item_desc_embedding_dropout(item_desc_output)\n",
    "item_desc_output = item_desc_lstm_1(item_desc_output)\n",
    "item_desc_output = item_desc_lstm_2(item_desc_output)\n",
    "item_desc_output = item_desc_lstm_dropout(item_desc_output)\n",
    "\n",
    "name_output = name_embedding(name_input)\n",
    "name_output = name_embedding_dropout(name_output)\n",
    "name_output = name_lstm_1(name_output)\n",
    "name_output = name_lstm_2(name_output)\n",
    "name_output = name_lstm_dropout(name_output)\n",
    "\n",
    "category_output = category_embedding(category_input)\n",
    "category_output = category_reshape(category_output)\n",
    "\n",
    "brand_output = brand_embedding(brand_input)\n",
    "brand_output = brand_reshape(brand_output)\n",
    "\n",
    "output = input_fusion([name_output, item_desc_output, category_output, brand_output, feature_input])\n",
    "output = fusion_dense_1(output)\n",
    "output = fusion_dense_2(output)\n",
    "prediction = fusion_dense_3(output)\n",
    "\n",
    "model = km.Model(inputs=[feature_input, category_input, brand_input, name_input, item_desc_input], outputs=prediction)"
   ]
  },
  {
   "cell_type": "code",
   "execution_count": null,
   "metadata": {},
   "outputs": [],
   "source": [
    "from IPython.display import SVG\n",
    "from keras.utils.vis_utils import model_to_dot\n",
    "\n",
    "SVG(model_to_dot(model).create(prog='dot', format='svg'))"
   ]
  },
  {
   "cell_type": "code",
   "execution_count": null,
   "metadata": {},
   "outputs": [],
   "source": [
    "model.summary()"
   ]
  },
  {
   "cell_type": "code",
   "execution_count": 13,
   "metadata": {},
   "outputs": [],
   "source": [
    "from keras import backend as K\n",
    "import keras\n",
    "\n",
    "def root_mean_squared_logarithmic_error(y_true, y_pred):\n",
    "    ret = losses.mean_squared_logarithmic_error(y_true, y_pred)\n",
    "    return K.sqrt(ret)\n",
    "\n",
    "def root_mean_squared_error(y_true, y_pred):\n",
    "    ret = losses.mean_squared_error(y_true, y_pred)\n",
    "    return K.sqrt(ret)"
   ]
  },
  {
   "cell_type": "code",
   "execution_count": null,
   "metadata": {},
   "outputs": [],
   "source": [
    "#model.compile(optimizer='adam', loss=root_mean_squared_logarithmic_error, metrics=[root_mean_squared_error])\n",
    "model.compile(optimizer='adam', loss=root_mean_squared_error, metrics=[root_mean_squared_logarithmic_error])"
   ]
  },
  {
   "cell_type": "code",
   "execution_count": 14,
   "metadata": {},
   "outputs": [],
   "source": [
    "model = load_model('merl_model-v3_10.h5', \n",
    "                   custom_objects={'root_mean_squared_error': root_mean_squared_error, \n",
    "                                   'root_mean_squared_logarithmic_error': root_mean_squared_logarithmic_error})"
   ]
  },
  {
   "cell_type": "code",
   "execution_count": null,
   "metadata": {},
   "outputs": [
    {
     "name": "stdout",
     "output_type": "stream",
     "text": [
      "Train on 296507 samples, validate on 29651 samples\n",
      "Epoch 1/5\n",
      " 34600/296507 [==>...........................] - ETA: 10:17 - loss: 34.9703 - root_mean_squared_logarithmic_error: 2.6240"
     ]
    }
   ],
   "source": [
    "tf_log_dir = MercariConfig.get_new_tf_log_dir()\n",
    "\n",
    "tb_callback = keras.callbacks.TensorBoard(log_dir=tf_log_dir, histogram_freq=0, batch_size=batch_size, \n",
    "                            write_graph=True, write_grads=False, write_images=False, \n",
    "                            embeddings_freq=0, embeddings_layer_names=None, embeddings_metadata=None)\n",
    "\n",
    "#reduce_lr = ReduceLROnPlateau(monitor='val_loss', factor=0.2,\n",
    "#                              patience=3, min_lr=0.001)\n",
    "\n",
    "history_simple = model.fit(\n",
    "    [x_f_train, x_cat_train, x_brand_train, X_name_seq_train, X_item_desc_seq_train], y_train,\n",
    "    batch_size=batch_size,\n",
    "    epochs=5,\n",
    "    verbose=1,\n",
    "#    callbacks=[tb_callback, reduce_lr],\n",
    "    shuffle=True,\n",
    "    initial_epoch=0,\n",
    "    validation_data=[[x_f_val, x_cat_val, x_brand_val, X_name_seq_val, X_item_desc_seq_val], y_val])"
   ]
  },
  {
   "cell_type": "code",
   "execution_count": null,
   "metadata": {},
   "outputs": [],
   "source": [
    "model.save(os.path.join(MercariConfig.MODEL_DIR, 'my_model.h5'))"
   ]
  },
  {
   "cell_type": "code",
   "execution_count": null,
   "metadata": {},
   "outputs": [],
   "source": [
    "model.evaluate(x=[x_f_val, x_cat_val, x_brand_val, X_name_seq_val, X_item_desc_seq_val], y=y_val, \n",
    "               batch_size=batch_size, verbose=1, sample_weight=None, steps=None)"
   ]
  },
  {
   "cell_type": "code",
   "execution_count": null,
   "metadata": {},
   "outputs": [],
   "source": [
    "y_pred = model.predict(x=[x_f_val, x_cat_val, x_brand_val, X_name_seq_val, X_item_desc_seq_val], batch_size=batch_size, verbose=1, steps=None)"
   ]
  },
  {
   "cell_type": "code",
   "execution_count": null,
   "metadata": {},
   "outputs": [],
   "source": [
    "import pandas as pd\n",
    "\n",
    "df = val_data[['name', 'item_condition_id', 'category_name', 'brand_name', 'shipping', 'price']]\n",
    "df['price_pre'] = y_pred"
   ]
  },
  {
   "cell_type": "code",
   "execution_count": null,
   "metadata": {},
   "outputs": [],
   "source": [
    "df[df.price > 100]"
   ]
  },
  {
   "cell_type": "code",
   "execution_count": null,
   "metadata": {},
   "outputs": [],
   "source": []
  }
 ],
 "metadata": {
  "kernelspec": {
   "display_name": "Python 3",
   "language": "python",
   "name": "python3"
  },
  "language_info": {
   "codemirror_mode": {
    "name": "ipython",
    "version": 3
   },
   "file_extension": ".py",
   "mimetype": "text/x-python",
   "name": "python",
   "nbconvert_exporter": "python",
   "pygments_lexer": "ipython3",
   "version": "3.5.2"
  }
 },
 "nbformat": 4,
 "nbformat_minor": 2
}
