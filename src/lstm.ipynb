{
 "cells": [
  {
   "cell_type": "code",
   "execution_count": 1,
   "metadata": {},
   "outputs": [
    {
     "name": "stderr",
     "output_type": "stream",
     "text": [
      "Using TensorFlow backend.\n"
     ]
    }
   ],
   "source": [
    "import numpy as np\n",
    "\n",
    "from keras.preprocessing import sequence\n",
    "import keras.models as km\n",
    "import keras.layers as kl\n",
    "import keras.constraints as kc\n",
    "from keras.datasets import imdb\n",
    "from keras import losses\n",
    "\n",
    "import matplotlib.pyplot as plt\n",
    "%matplotlib inline\n",
    "\n",
    "import ipywidgets as ipw\n",
    "\n",
    "import data_preparation as mdp\n",
    "from mercari_config import MercariConfig"
   ]
  },
  {
   "cell_type": "code",
   "execution_count": 2,
   "metadata": {},
   "outputs": [
    {
     "ename": "AttributeError",
     "evalue": "type object 'MercariConfig' has no attribute 'MAX_WORDS_FROM_INDEX'",
     "output_type": "error",
     "traceback": [
      "\u001b[0;31m---------------------------------------------------------------------------\u001b[0m",
      "\u001b[0;31mAttributeError\u001b[0m                            Traceback (most recent call last)",
      "\u001b[0;32m<ipython-input-2-aa0c29fccadf>\u001b[0m in \u001b[0;36m<module>\u001b[0;34m()\u001b[0m\n\u001b[0;32m----> 1\u001b[0;31m \u001b[0mnum_words\u001b[0m \u001b[0;34m=\u001b[0m \u001b[0mMercariConfig\u001b[0m\u001b[0;34m.\u001b[0m\u001b[0mMAX_WORDS_FROM_INDEX\u001b[0m \u001b[0;34m+\u001b[0m \u001b[0mMercariConfig\u001b[0m\u001b[0;34m.\u001b[0m\u001b[0mINDICATOR_WORDS_COUNT\u001b[0m\u001b[0;34m\u001b[0m\u001b[0m\n\u001b[0m\u001b[1;32m      2\u001b[0m \u001b[0mmax_seq_len\u001b[0m \u001b[0;34m=\u001b[0m \u001b[0mMercariConfig\u001b[0m\u001b[0;34m.\u001b[0m\u001b[0mMAX_WORDS_ITEM_DESC\u001b[0m \u001b[0;34m+\u001b[0m \u001b[0;36m1\u001b[0m \u001b[0;31m# Remember: first word is always <START>\u001b[0m\u001b[0;34m\u001b[0m\u001b[0m\n\u001b[1;32m      3\u001b[0m \u001b[0membedding_dims\u001b[0m \u001b[0;34m=\u001b[0m \u001b[0;36m32\u001b[0m\u001b[0;34m\u001b[0m\u001b[0m\n\u001b[1;32m      4\u001b[0m \u001b[0mbatch_size\u001b[0m \u001b[0;34m=\u001b[0m \u001b[0;36m200\u001b[0m\u001b[0;34m\u001b[0m\u001b[0m\n",
      "\u001b[0;31mAttributeError\u001b[0m: type object 'MercariConfig' has no attribute 'MAX_WORDS_FROM_INDEX'"
     ]
    }
   ],
   "source": [
    "num_words = MercariConfig.MAX_WORDS_FROM_INDEX + MercariConfig.INDICATOR_WORDS_COUNT\n",
    "max_seq_len = MercariConfig.MAX_WORDS_ITEM_DESC + 1 # Remember: first word is always <START>\n",
    "embedding_dims = 32\n",
    "batch_size = 200"
   ]
  },
  {
   "cell_type": "code",
   "execution_count": 3,
   "metadata": {},
   "outputs": [
    {
     "name": "stdout",
     "output_type": "stream",
     "text": [
      "CPU times: user 4.03 s, sys: 444 ms, total: 4.47 s\n",
      "Wall time: 4.47 s\n"
     ]
    }
   ],
   "source": [
    "%%time\n",
    "\n",
    "train_data = mdp.load_data(MercariConfig.TRAINING_SET_PREP_W2I_FILE)\n",
    "X_seq_train = train_data.drop(columns=['name', 'item_condition_id', 'category_name', 'brand_name', 'price', \n",
    "                                       'shipping', 'item_description', 'category_id', 'brand_id']).as_matrix()\n",
    "x_cat_train = train_data['category_id'].as_matrix()\n",
    "x_brand_train = train_data['brand_id'].as_matrix()\n",
    "x_f_train = train_data[['item_condition_id', 'shipping']].as_matrix()\n",
    "y_train = train_data['price'].as_matrix()"
   ]
  },
  {
   "cell_type": "code",
   "execution_count": 4,
   "metadata": {},
   "outputs": [
    {
     "name": "stdout",
     "output_type": "stream",
     "text": [
      "(148253, 301) (148253,) (148253,) (148253, 2) (148253,)\n"
     ]
    }
   ],
   "source": [
    "print(X_seq_train.shape, x_cat_train.shape, x_brand_train.shape, x_f_train.shape, y_train.shape)"
   ]
  },
  {
   "cell_type": "code",
   "execution_count": 5,
   "metadata": {},
   "outputs": [
    {
     "name": "stdout",
     "output_type": "stream",
     "text": [
      "CPU times: user 948 ms, sys: 128 ms, total: 1.08 s\n",
      "Wall time: 1.07 s\n"
     ]
    }
   ],
   "source": [
    "%%time\n",
    "\n",
    "X_seq_train = sequence.pad_sequences(X_seq_train, maxlen=max_seq_len, padding='post', truncating='post')"
   ]
  },
  {
   "cell_type": "code",
   "execution_count": 7,
   "metadata": {},
   "outputs": [],
   "source": [
    "feature_input = kl.Input(shape=(2,), name='feature_input')\n",
    "category_input = kl.Input(shape=(1,), name='category_input')\n",
    "brand_input = kl.Input(shape=(1,), name='brand_input')\n",
    "item_desc_input = kl.Input(shape=(max_seq_len,), name='item_desc_input')\n",
    "\n",
    "item_desc_embedding = kl.Embedding(num_words, embedding_dims, name='item_desc_embedding')\n",
    "#item_desc_embedding_dropout = kl.SpatialDropout1D(0.5, name='item_desc_embedding_dropout')\n",
    "item_desc_lstm_1 = kl.CuDNNLSTM(units=200, name='item_desc_lstm_1') #, return_sequences=True)\n",
    "#item_desc_lstm_dropout = kl.Dropout(0.5, name='item_desc_lstm_dropout')\n",
    "#item_desc_lstm_2 = kl.CuDNNLSTM(units=200, name='item_desc_lstm_2')\n",
    "#item_desc_stacked_lstm = kl.StackedRNNCells(cells=[item_desc_lstm_1, item_desc_lstm_2], name='item_desc_stacked_lstm')\n",
    "\n",
    "\n",
    "category_embedding = kl.Embedding(1038, 10, name='category_embedding')\n",
    "category_reshape = kl.Reshape(target_shape=(10,), name='category_reshape')\n",
    "\n",
    "brand_embedding = kl.Embedding(2372, 10, name='brand_embedding')\n",
    "brand_reshape = kl.Reshape(target_shape=(10,), name='brand_reshape')\n",
    "\n",
    "input_fusion = kl.Concatenate(axis=1, name='input_fusion')\n",
    "fusion_dense_1 = kl.Dense(300, activation='relu', name='fusion_dense_1')\n",
    "fusion_dense_2 = kl.Dense(200, activation='relu', name='fusion_dense_2')\n",
    "fusion_dense_3 = kl.Dense(1, activation='relu', name='fusion_dense_3')\n",
    "\n",
    "item_desc_output = item_desc_embedding(item_desc_input)\n",
    "#item_desc_output = item_desc_embedding_dropout(item_desc_output)\n",
    "item_desc_output = item_desc_lstm_1(item_desc_output)\n",
    "#item_desc_output = item_desc_lstm_dropout(item_desc_output)\n",
    "#item_desc_output = item_desc_lstm_2(item_desc_output)\n",
    "\n",
    "category_output = category_embedding(category_input)\n",
    "category_output = category_reshape(category_output)\n",
    "\n",
    "brand_output = brand_embedding(brand_input)\n",
    "brand_output = brand_reshape(brand_output)\n",
    "\n",
    "output = input_fusion([item_desc_output, category_output, brand_output, feature_input])\n",
    "output = fusion_dense_1(output)\n",
    "output = fusion_dense_2(output)\n",
    "prediction = fusion_dense_3(output)\n",
    "\n",
    "model = km.Model(inputs=[feature_input, category_input, brand_input, item_desc_input], outputs=prediction)"
   ]
  },
  {
   "cell_type": "code",
   "execution_count": 8,
   "metadata": {},
   "outputs": [
    {
     "data": {
      "image/svg+xml": [
       "<svg height=\"483pt\" viewBox=\"0.00 0.00 961.00 483.00\" width=\"961pt\" xmlns=\"http://www.w3.org/2000/svg\" xmlns:xlink=\"http://www.w3.org/1999/xlink\">\n",
       "<g class=\"graph\" id=\"graph0\" transform=\"scale(1 1) rotate(0) translate(4 479)\">\n",
       "<title>G</title>\n",
       "<polygon fill=\"white\" points=\"-4,4 -4,-479 957,-479 957,4 -4,4\" stroke=\"none\"/>\n",
       "<!-- 140237647226752 -->\n",
       "<g class=\"node\" id=\"node1\"><title>140237647226752</title>\n",
       "<polygon fill=\"none\" points=\"21.5,-438.5 21.5,-474.5 245.5,-474.5 245.5,-438.5 21.5,-438.5\" stroke=\"black\"/>\n",
       "<text font-family=\"Times,serif\" font-size=\"14.00\" text-anchor=\"middle\" x=\"133.5\" y=\"-452.8\">item_desc_input: InputLayer</text>\n",
       "</g>\n",
       "<!-- 140237647226640 -->\n",
       "<g class=\"node\" id=\"node4\"><title>140237647226640</title>\n",
       "<polygon fill=\"none\" points=\"0,-365.5 0,-401.5 267,-401.5 267,-365.5 0,-365.5\" stroke=\"black\"/>\n",
       "<text font-family=\"Times,serif\" font-size=\"14.00\" text-anchor=\"middle\" x=\"133.5\" y=\"-379.8\">item_desc_embedding: Embedding</text>\n",
       "</g>\n",
       "<!-- 140237647226752&#45;&gt;140237647226640 -->\n",
       "<g class=\"edge\" id=\"edge1\"><title>140237647226752-&gt;140237647226640</title>\n",
       "<path d=\"M133.5,-438.313C133.5,-430.289 133.5,-420.547 133.5,-411.569\" fill=\"none\" stroke=\"black\"/>\n",
       "<polygon fill=\"black\" points=\"137,-411.529 133.5,-401.529 130,-411.529 137,-411.529\" stroke=\"black\"/>\n",
       "</g>\n",
       "<!-- 140237647225744 -->\n",
       "<g class=\"node\" id=\"node2\"><title>140237647225744</title>\n",
       "<polygon fill=\"none\" points=\"306.5,-438.5 306.5,-474.5 520.5,-474.5 520.5,-438.5 306.5,-438.5\" stroke=\"black\"/>\n",
       "<text font-family=\"Times,serif\" font-size=\"14.00\" text-anchor=\"middle\" x=\"413.5\" y=\"-452.8\">category_input: InputLayer</text>\n",
       "</g>\n",
       "<!-- 140237647225912 -->\n",
       "<g class=\"node\" id=\"node5\"><title>140237647225912</title>\n",
       "<polygon fill=\"none\" points=\"285,-365.5 285,-401.5 542,-401.5 542,-365.5 285,-365.5\" stroke=\"black\"/>\n",
       "<text font-family=\"Times,serif\" font-size=\"14.00\" text-anchor=\"middle\" x=\"413.5\" y=\"-379.8\">category_embedding: Embedding</text>\n",
       "</g>\n",
       "<!-- 140237647225744&#45;&gt;140237647225912 -->\n",
       "<g class=\"edge\" id=\"edge2\"><title>140237647225744-&gt;140237647225912</title>\n",
       "<path d=\"M413.5,-438.313C413.5,-430.289 413.5,-420.547 413.5,-411.569\" fill=\"none\" stroke=\"black\"/>\n",
       "<polygon fill=\"black\" points=\"417,-411.529 413.5,-401.529 410,-411.529 417,-411.529\" stroke=\"black\"/>\n",
       "</g>\n",
       "<!-- 140237647226304 -->\n",
       "<g class=\"node\" id=\"node3\"><title>140237647226304</title>\n",
       "<polygon fill=\"none\" points=\"582,-438.5 582,-474.5 775,-474.5 775,-438.5 582,-438.5\" stroke=\"black\"/>\n",
       "<text font-family=\"Times,serif\" font-size=\"14.00\" text-anchor=\"middle\" x=\"678.5\" y=\"-452.8\">brand_input: InputLayer</text>\n",
       "</g>\n",
       "<!-- 140238166483520 -->\n",
       "<g class=\"node\" id=\"node6\"><title>140238166483520</title>\n",
       "<polygon fill=\"none\" points=\"560.5,-365.5 560.5,-401.5 796.5,-401.5 796.5,-365.5 560.5,-365.5\" stroke=\"black\"/>\n",
       "<text font-family=\"Times,serif\" font-size=\"14.00\" text-anchor=\"middle\" x=\"678.5\" y=\"-379.8\">brand_embedding: Embedding</text>\n",
       "</g>\n",
       "<!-- 140237647226304&#45;&gt;140238166483520 -->\n",
       "<g class=\"edge\" id=\"edge3\"><title>140237647226304-&gt;140238166483520</title>\n",
       "<path d=\"M678.5,-438.313C678.5,-430.289 678.5,-420.547 678.5,-411.569\" fill=\"none\" stroke=\"black\"/>\n",
       "<polygon fill=\"black\" points=\"682,-411.529 678.5,-401.529 675,-411.529 682,-411.529\" stroke=\"black\"/>\n",
       "</g>\n",
       "<!-- 140237647227536 -->\n",
       "<g class=\"node\" id=\"node7\"><title>140237647227536</title>\n",
       "<polygon fill=\"none\" points=\"20.5,-292.5 20.5,-328.5 274.5,-328.5 274.5,-292.5 20.5,-292.5\" stroke=\"black\"/>\n",
       "<text font-family=\"Times,serif\" font-size=\"14.00\" text-anchor=\"middle\" x=\"147.5\" y=\"-306.8\">item_desc_lstm_1: CuDNNLSTM</text>\n",
       "</g>\n",
       "<!-- 140237647226640&#45;&gt;140237647227536 -->\n",
       "<g class=\"edge\" id=\"edge4\"><title>140237647226640-&gt;140237647227536</title>\n",
       "<path d=\"M136.889,-365.313C138.471,-357.289 140.392,-347.547 142.162,-338.569\" fill=\"none\" stroke=\"black\"/>\n",
       "<polygon fill=\"black\" points=\"145.641,-339.017 144.142,-328.529 138.774,-337.663 145.641,-339.017\" stroke=\"black\"/>\n",
       "</g>\n",
       "<!-- 140237647228880 -->\n",
       "<g class=\"node\" id=\"node8\"><title>140237647228880</title>\n",
       "<polygon fill=\"none\" points=\"306.5,-292.5 306.5,-328.5 520.5,-328.5 520.5,-292.5 306.5,-292.5\" stroke=\"black\"/>\n",
       "<text font-family=\"Times,serif\" font-size=\"14.00\" text-anchor=\"middle\" x=\"413.5\" y=\"-306.8\">category_reshape: Reshape</text>\n",
       "</g>\n",
       "<!-- 140237647225912&#45;&gt;140237647228880 -->\n",
       "<g class=\"edge\" id=\"edge5\"><title>140237647225912-&gt;140237647228880</title>\n",
       "<path d=\"M413.5,-365.313C413.5,-357.289 413.5,-347.547 413.5,-338.569\" fill=\"none\" stroke=\"black\"/>\n",
       "<polygon fill=\"black\" points=\"417,-338.529 413.5,-328.529 410,-338.529 417,-338.529\" stroke=\"black\"/>\n",
       "</g>\n",
       "<!-- 140238166485256 -->\n",
       "<g class=\"node\" id=\"node9\"><title>140238166485256</title>\n",
       "<polygon fill=\"none\" points=\"539,-292.5 539,-328.5 732,-328.5 732,-292.5 539,-292.5\" stroke=\"black\"/>\n",
       "<text font-family=\"Times,serif\" font-size=\"14.00\" text-anchor=\"middle\" x=\"635.5\" y=\"-306.8\">brand_reshape: Reshape</text>\n",
       "</g>\n",
       "<!-- 140238166483520&#45;&gt;140238166485256 -->\n",
       "<g class=\"edge\" id=\"edge6\"><title>140238166483520-&gt;140238166485256</title>\n",
       "<path d=\"M668.091,-365.313C662.968,-356.853 656.687,-346.484 651.012,-337.112\" fill=\"none\" stroke=\"black\"/>\n",
       "<polygon fill=\"black\" points=\"653.987,-335.269 645.813,-328.529 648,-338.896 653.987,-335.269\" stroke=\"black\"/>\n",
       "</g>\n",
       "<!-- 140238166485368 -->\n",
       "<g class=\"node\" id=\"node11\"><title>140238166485368</title>\n",
       "<polygon fill=\"none\" points=\"422,-219.5 422,-255.5 627,-255.5 627,-219.5 422,-219.5\" stroke=\"black\"/>\n",
       "<text font-family=\"Times,serif\" font-size=\"14.00\" text-anchor=\"middle\" x=\"524.5\" y=\"-233.8\">input_fusion: Concatenate</text>\n",
       "</g>\n",
       "<!-- 140237647227536&#45;&gt;140238166485368 -->\n",
       "<g class=\"edge\" id=\"edge7\"><title>140237647227536-&gt;140238166485368</title>\n",
       "<path d=\"M237.801,-292.494C293.915,-281.926 366.137,-268.324 424.054,-257.417\" fill=\"none\" stroke=\"black\"/>\n",
       "<polygon fill=\"black\" points=\"424.777,-260.842 433.957,-255.552 423.481,-253.963 424.777,-260.842\" stroke=\"black\"/>\n",
       "</g>\n",
       "<!-- 140237647228880&#45;&gt;140238166485368 -->\n",
       "<g class=\"edge\" id=\"edge8\"><title>140237647228880-&gt;140238166485368</title>\n",
       "<path d=\"M440.087,-292.494C454.807,-283.079 473.291,-271.255 489.207,-261.075\" fill=\"none\" stroke=\"black\"/>\n",
       "<polygon fill=\"black\" points=\"491.207,-263.95 497.745,-255.614 487.435,-258.054 491.207,-263.95\" stroke=\"black\"/>\n",
       "</g>\n",
       "<!-- 140238166485256&#45;&gt;140238166485368 -->\n",
       "<g class=\"edge\" id=\"edge9\"><title>140238166485256-&gt;140238166485368</title>\n",
       "<path d=\"M608.913,-292.494C594.193,-283.079 575.709,-271.255 559.793,-261.075\" fill=\"none\" stroke=\"black\"/>\n",
       "<polygon fill=\"black\" points=\"561.565,-258.054 551.255,-255.614 557.793,-263.95 561.565,-258.054\" stroke=\"black\"/>\n",
       "</g>\n",
       "<!-- 140237647225800 -->\n",
       "<g class=\"node\" id=\"node10\"><title>140237647225800</title>\n",
       "<polygon fill=\"none\" points=\"750,-292.5 750,-328.5 953,-328.5 953,-292.5 750,-292.5\" stroke=\"black\"/>\n",
       "<text font-family=\"Times,serif\" font-size=\"14.00\" text-anchor=\"middle\" x=\"851.5\" y=\"-306.8\">feature_input: InputLayer</text>\n",
       "</g>\n",
       "<!-- 140237647225800&#45;&gt;140238166485368 -->\n",
       "<g class=\"edge\" id=\"edge10\"><title>140237647225800-&gt;140238166485368</title>\n",
       "<path d=\"M773.175,-292.494C724.906,-282.013 662.894,-268.549 612.872,-257.688\" fill=\"none\" stroke=\"black\"/>\n",
       "<polygon fill=\"black\" points=\"613.55,-254.254 603.035,-255.552 612.065,-261.094 613.55,-254.254\" stroke=\"black\"/>\n",
       "</g>\n",
       "<!-- 140238166485424 -->\n",
       "<g class=\"node\" id=\"node12\"><title>140238166485424</title>\n",
       "<polygon fill=\"none\" points=\"435,-146.5 435,-182.5 614,-182.5 614,-146.5 435,-146.5\" stroke=\"black\"/>\n",
       "<text font-family=\"Times,serif\" font-size=\"14.00\" text-anchor=\"middle\" x=\"524.5\" y=\"-160.8\">fusion_dense_1: Dense</text>\n",
       "</g>\n",
       "<!-- 140238166485368&#45;&gt;140238166485424 -->\n",
       "<g class=\"edge\" id=\"edge11\"><title>140238166485368-&gt;140238166485424</title>\n",
       "<path d=\"M524.5,-219.313C524.5,-211.289 524.5,-201.547 524.5,-192.569\" fill=\"none\" stroke=\"black\"/>\n",
       "<polygon fill=\"black\" points=\"528,-192.529 524.5,-182.529 521,-192.529 528,-192.529\" stroke=\"black\"/>\n",
       "</g>\n",
       "<!-- 140238166485536 -->\n",
       "<g class=\"node\" id=\"node13\"><title>140238166485536</title>\n",
       "<polygon fill=\"none\" points=\"435,-73.5 435,-109.5 614,-109.5 614,-73.5 435,-73.5\" stroke=\"black\"/>\n",
       "<text font-family=\"Times,serif\" font-size=\"14.00\" text-anchor=\"middle\" x=\"524.5\" y=\"-87.8\">fusion_dense_2: Dense</text>\n",
       "</g>\n",
       "<!-- 140238166485424&#45;&gt;140238166485536 -->\n",
       "<g class=\"edge\" id=\"edge12\"><title>140238166485424-&gt;140238166485536</title>\n",
       "<path d=\"M524.5,-146.313C524.5,-138.289 524.5,-128.547 524.5,-119.569\" fill=\"none\" stroke=\"black\"/>\n",
       "<polygon fill=\"black\" points=\"528,-119.529 524.5,-109.529 521,-119.529 528,-119.529\" stroke=\"black\"/>\n",
       "</g>\n",
       "<!-- 140238166485592 -->\n",
       "<g class=\"node\" id=\"node14\"><title>140238166485592</title>\n",
       "<polygon fill=\"none\" points=\"435,-0.5 435,-36.5 614,-36.5 614,-0.5 435,-0.5\" stroke=\"black\"/>\n",
       "<text font-family=\"Times,serif\" font-size=\"14.00\" text-anchor=\"middle\" x=\"524.5\" y=\"-14.8\">fusion_dense_3: Dense</text>\n",
       "</g>\n",
       "<!-- 140238166485536&#45;&gt;140238166485592 -->\n",
       "<g class=\"edge\" id=\"edge13\"><title>140238166485536-&gt;140238166485592</title>\n",
       "<path d=\"M524.5,-73.3129C524.5,-65.2895 524.5,-55.5475 524.5,-46.5691\" fill=\"none\" stroke=\"black\"/>\n",
       "<polygon fill=\"black\" points=\"528,-46.5288 524.5,-36.5288 521,-46.5289 528,-46.5288\" stroke=\"black\"/>\n",
       "</g>\n",
       "</g>\n",
       "</svg>"
      ],
      "text/plain": [
       "<IPython.core.display.SVG object>"
      ]
     },
     "execution_count": 8,
     "metadata": {},
     "output_type": "execute_result"
    }
   ],
   "source": [
    "from IPython.display import SVG\n",
    "from keras.utils.vis_utils import model_to_dot\n",
    "\n",
    "SVG(model_to_dot(model).create(prog='dot', format='svg'))"
   ]
  },
  {
   "cell_type": "code",
   "execution_count": 9,
   "metadata": {},
   "outputs": [
    {
     "name": "stdout",
     "output_type": "stream",
     "text": [
      "__________________________________________________________________________________________________\n",
      "Layer (type)                    Output Shape         Param #     Connected to                     \n",
      "==================================================================================================\n",
      "item_desc_input (InputLayer)    (None, 301)          0                                            \n",
      "__________________________________________________________________________________________________\n",
      "category_input (InputLayer)     (None, 1)            0                                            \n",
      "__________________________________________________________________________________________________\n",
      "brand_input (InputLayer)        (None, 1)            0                                            \n",
      "__________________________________________________________________________________________________\n",
      "item_desc_embedding (Embedding) (None, 301, 32)      640128      item_desc_input[0][0]            \n",
      "__________________________________________________________________________________________________\n",
      "category_embedding (Embedding)  (None, 1, 10)        10380       category_input[0][0]             \n",
      "__________________________________________________________________________________________________\n",
      "brand_embedding (Embedding)     (None, 1, 10)        23720       brand_input[0][0]                \n",
      "__________________________________________________________________________________________________\n",
      "item_desc_lstm_1 (CuDNNLSTM)    (None, 200)          187200      item_desc_embedding[0][0]        \n",
      "__________________________________________________________________________________________________\n",
      "category_reshape (Reshape)      (None, 10)           0           category_embedding[0][0]         \n",
      "__________________________________________________________________________________________________\n",
      "brand_reshape (Reshape)         (None, 10)           0           brand_embedding[0][0]            \n",
      "__________________________________________________________________________________________________\n",
      "feature_input (InputLayer)      (None, 2)            0                                            \n",
      "__________________________________________________________________________________________________\n",
      "input_fusion (Concatenate)      (None, 222)          0           item_desc_lstm_1[0][0]           \n",
      "                                                                 category_reshape[0][0]           \n",
      "                                                                 brand_reshape[0][0]              \n",
      "                                                                 feature_input[0][0]              \n",
      "__________________________________________________________________________________________________\n",
      "fusion_dense_1 (Dense)          (None, 300)          66900       input_fusion[0][0]               \n",
      "__________________________________________________________________________________________________\n",
      "fusion_dense_2 (Dense)          (None, 200)          60200       fusion_dense_1[0][0]             \n",
      "__________________________________________________________________________________________________\n",
      "fusion_dense_3 (Dense)          (None, 1)            201         fusion_dense_2[0][0]             \n",
      "==================================================================================================\n",
      "Total params: 988,729\n",
      "Trainable params: 988,729\n",
      "Non-trainable params: 0\n",
      "__________________________________________________________________________________________________\n"
     ]
    }
   ],
   "source": [
    "model.summary()"
   ]
  },
  {
   "cell_type": "code",
   "execution_count": 10,
   "metadata": {},
   "outputs": [
    {
     "name": "stdout",
     "output_type": "stream",
     "text": [
      "Epoch 1/10\n",
      "148253/148253 [==============================] - 90s 607us/step - loss: 13.9420 - root_mean_squared_logarithmic_error: 0.4962\n",
      "Epoch 2/10\n",
      "148253/148253 [==============================] - 89s 600us/step - loss: 12.8050 - root_mean_squared_logarithmic_error: 0.4388\n",
      "Epoch 3/10\n",
      " 34800/148253 [======>.......................] - ETA: 1:08 - loss: 12.6321 - root_mean_squared_logarithmic_error: 0.4307"
     ]
    },
    {
     "ename": "KeyboardInterrupt",
     "evalue": "",
     "output_type": "error",
     "traceback": [
      "\u001b[0;31m---------------------------------------------------------------------------\u001b[0m",
      "\u001b[0;31mKeyboardInterrupt\u001b[0m                         Traceback (most recent call last)",
      "\u001b[0;32m<ipython-input-10-18107b4a6380>\u001b[0m in \u001b[0;36m<module>\u001b[0;34m()\u001b[0m\n\u001b[1;32m     16\u001b[0m     \u001b[0mbatch_size\u001b[0m\u001b[0;34m=\u001b[0m\u001b[0mbatch_size\u001b[0m\u001b[0;34m,\u001b[0m\u001b[0;34m\u001b[0m\u001b[0m\n\u001b[1;32m     17\u001b[0m     \u001b[0mepochs\u001b[0m\u001b[0;34m=\u001b[0m\u001b[0;36m10\u001b[0m\u001b[0;34m,\u001b[0m\u001b[0;34m\u001b[0m\u001b[0m\n\u001b[0;32m---> 18\u001b[0;31m     shuffle=True)#,\n\u001b[0m\u001b[1;32m     19\u001b[0m     \u001b[0;31m#validation_data=[x_test_pad, y_test])\u001b[0m\u001b[0;34m\u001b[0m\u001b[0;34m\u001b[0m\u001b[0m\n",
      "\u001b[0;32m~/pie352-tf14/lib/python3.5/site-packages/keras/engine/training.py\u001b[0m in \u001b[0;36mfit\u001b[0;34m(self, x, y, batch_size, epochs, verbose, callbacks, validation_split, validation_data, shuffle, class_weight, sample_weight, initial_epoch, steps_per_epoch, validation_steps, **kwargs)\u001b[0m\n\u001b[1;32m   1655\u001b[0m                               \u001b[0minitial_epoch\u001b[0m\u001b[0;34m=\u001b[0m\u001b[0minitial_epoch\u001b[0m\u001b[0;34m,\u001b[0m\u001b[0;34m\u001b[0m\u001b[0m\n\u001b[1;32m   1656\u001b[0m                               \u001b[0msteps_per_epoch\u001b[0m\u001b[0;34m=\u001b[0m\u001b[0msteps_per_epoch\u001b[0m\u001b[0;34m,\u001b[0m\u001b[0;34m\u001b[0m\u001b[0m\n\u001b[0;32m-> 1657\u001b[0;31m                               validation_steps=validation_steps)\n\u001b[0m\u001b[1;32m   1658\u001b[0m \u001b[0;34m\u001b[0m\u001b[0m\n\u001b[1;32m   1659\u001b[0m     def evaluate(self, x=None, y=None,\n",
      "\u001b[0;32m~/pie352-tf14/lib/python3.5/site-packages/keras/engine/training.py\u001b[0m in \u001b[0;36m_fit_loop\u001b[0;34m(self, f, ins, out_labels, batch_size, epochs, verbose, callbacks, val_f, val_ins, shuffle, callback_metrics, initial_epoch, steps_per_epoch, validation_steps)\u001b[0m\n\u001b[1;32m   1211\u001b[0m                     \u001b[0mbatch_logs\u001b[0m\u001b[0;34m[\u001b[0m\u001b[0;34m'size'\u001b[0m\u001b[0;34m]\u001b[0m \u001b[0;34m=\u001b[0m \u001b[0mlen\u001b[0m\u001b[0;34m(\u001b[0m\u001b[0mbatch_ids\u001b[0m\u001b[0;34m)\u001b[0m\u001b[0;34m\u001b[0m\u001b[0m\n\u001b[1;32m   1212\u001b[0m                     \u001b[0mcallbacks\u001b[0m\u001b[0;34m.\u001b[0m\u001b[0mon_batch_begin\u001b[0m\u001b[0;34m(\u001b[0m\u001b[0mbatch_index\u001b[0m\u001b[0;34m,\u001b[0m \u001b[0mbatch_logs\u001b[0m\u001b[0;34m)\u001b[0m\u001b[0;34m\u001b[0m\u001b[0m\n\u001b[0;32m-> 1213\u001b[0;31m                     \u001b[0mouts\u001b[0m \u001b[0;34m=\u001b[0m \u001b[0mf\u001b[0m\u001b[0;34m(\u001b[0m\u001b[0mins_batch\u001b[0m\u001b[0;34m)\u001b[0m\u001b[0;34m\u001b[0m\u001b[0m\n\u001b[0m\u001b[1;32m   1214\u001b[0m                     \u001b[0;32mif\u001b[0m \u001b[0;32mnot\u001b[0m \u001b[0misinstance\u001b[0m\u001b[0;34m(\u001b[0m\u001b[0mouts\u001b[0m\u001b[0;34m,\u001b[0m \u001b[0mlist\u001b[0m\u001b[0;34m)\u001b[0m\u001b[0;34m:\u001b[0m\u001b[0;34m\u001b[0m\u001b[0m\n\u001b[1;32m   1215\u001b[0m                         \u001b[0mouts\u001b[0m \u001b[0;34m=\u001b[0m \u001b[0;34m[\u001b[0m\u001b[0mouts\u001b[0m\u001b[0;34m]\u001b[0m\u001b[0;34m\u001b[0m\u001b[0m\n",
      "\u001b[0;32m~/pie352-tf14/lib/python3.5/site-packages/keras/backend/tensorflow_backend.py\u001b[0m in \u001b[0;36m__call__\u001b[0;34m(self, inputs)\u001b[0m\n\u001b[1;32m   2355\u001b[0m         \u001b[0msession\u001b[0m \u001b[0;34m=\u001b[0m \u001b[0mget_session\u001b[0m\u001b[0;34m(\u001b[0m\u001b[0;34m)\u001b[0m\u001b[0;34m\u001b[0m\u001b[0m\n\u001b[1;32m   2356\u001b[0m         updated = session.run(fetches=fetches, feed_dict=feed_dict,\n\u001b[0;32m-> 2357\u001b[0;31m                               **self.session_kwargs)\n\u001b[0m\u001b[1;32m   2358\u001b[0m         \u001b[0;32mreturn\u001b[0m \u001b[0mupdated\u001b[0m\u001b[0;34m[\u001b[0m\u001b[0;34m:\u001b[0m\u001b[0mlen\u001b[0m\u001b[0;34m(\u001b[0m\u001b[0mself\u001b[0m\u001b[0;34m.\u001b[0m\u001b[0moutputs\u001b[0m\u001b[0;34m)\u001b[0m\u001b[0;34m]\u001b[0m\u001b[0;34m\u001b[0m\u001b[0m\n\u001b[1;32m   2359\u001b[0m \u001b[0;34m\u001b[0m\u001b[0m\n",
      "\u001b[0;32m~/pie352-tf14/lib/python3.5/site-packages/tensorflow/python/client/session.py\u001b[0m in \u001b[0;36mrun\u001b[0;34m(self, fetches, feed_dict, options, run_metadata)\u001b[0m\n\u001b[1;32m    887\u001b[0m     \u001b[0;32mtry\u001b[0m\u001b[0;34m:\u001b[0m\u001b[0;34m\u001b[0m\u001b[0m\n\u001b[1;32m    888\u001b[0m       result = self._run(None, fetches, feed_dict, options_ptr,\n\u001b[0;32m--> 889\u001b[0;31m                          run_metadata_ptr)\n\u001b[0m\u001b[1;32m    890\u001b[0m       \u001b[0;32mif\u001b[0m \u001b[0mrun_metadata\u001b[0m\u001b[0;34m:\u001b[0m\u001b[0;34m\u001b[0m\u001b[0m\n\u001b[1;32m    891\u001b[0m         \u001b[0mproto_data\u001b[0m \u001b[0;34m=\u001b[0m \u001b[0mtf_session\u001b[0m\u001b[0;34m.\u001b[0m\u001b[0mTF_GetBuffer\u001b[0m\u001b[0;34m(\u001b[0m\u001b[0mrun_metadata_ptr\u001b[0m\u001b[0;34m)\u001b[0m\u001b[0;34m\u001b[0m\u001b[0m\n",
      "\u001b[0;32m~/pie352-tf14/lib/python3.5/site-packages/tensorflow/python/client/session.py\u001b[0m in \u001b[0;36m_run\u001b[0;34m(self, handle, fetches, feed_dict, options, run_metadata)\u001b[0m\n\u001b[1;32m   1118\u001b[0m     \u001b[0;32mif\u001b[0m \u001b[0mfinal_fetches\u001b[0m \u001b[0;32mor\u001b[0m \u001b[0mfinal_targets\u001b[0m \u001b[0;32mor\u001b[0m \u001b[0;34m(\u001b[0m\u001b[0mhandle\u001b[0m \u001b[0;32mand\u001b[0m \u001b[0mfeed_dict_tensor\u001b[0m\u001b[0;34m)\u001b[0m\u001b[0;34m:\u001b[0m\u001b[0;34m\u001b[0m\u001b[0m\n\u001b[1;32m   1119\u001b[0m       results = self._do_run(handle, final_targets, final_fetches,\n\u001b[0;32m-> 1120\u001b[0;31m                              feed_dict_tensor, options, run_metadata)\n\u001b[0m\u001b[1;32m   1121\u001b[0m     \u001b[0;32melse\u001b[0m\u001b[0;34m:\u001b[0m\u001b[0;34m\u001b[0m\u001b[0m\n\u001b[1;32m   1122\u001b[0m       \u001b[0mresults\u001b[0m \u001b[0;34m=\u001b[0m \u001b[0;34m[\u001b[0m\u001b[0;34m]\u001b[0m\u001b[0;34m\u001b[0m\u001b[0m\n",
      "\u001b[0;32m~/pie352-tf14/lib/python3.5/site-packages/tensorflow/python/client/session.py\u001b[0m in \u001b[0;36m_do_run\u001b[0;34m(self, handle, target_list, fetch_list, feed_dict, options, run_metadata)\u001b[0m\n\u001b[1;32m   1315\u001b[0m     \u001b[0;32mif\u001b[0m \u001b[0mhandle\u001b[0m \u001b[0;32mis\u001b[0m \u001b[0;32mNone\u001b[0m\u001b[0;34m:\u001b[0m\u001b[0;34m\u001b[0m\u001b[0m\n\u001b[1;32m   1316\u001b[0m       return self._do_call(_run_fn, self._session, feeds, fetches, targets,\n\u001b[0;32m-> 1317\u001b[0;31m                            options, run_metadata)\n\u001b[0m\u001b[1;32m   1318\u001b[0m     \u001b[0;32melse\u001b[0m\u001b[0;34m:\u001b[0m\u001b[0;34m\u001b[0m\u001b[0m\n\u001b[1;32m   1319\u001b[0m       \u001b[0;32mreturn\u001b[0m \u001b[0mself\u001b[0m\u001b[0;34m.\u001b[0m\u001b[0m_do_call\u001b[0m\u001b[0;34m(\u001b[0m\u001b[0m_prun_fn\u001b[0m\u001b[0;34m,\u001b[0m \u001b[0mself\u001b[0m\u001b[0;34m.\u001b[0m\u001b[0m_session\u001b[0m\u001b[0;34m,\u001b[0m \u001b[0mhandle\u001b[0m\u001b[0;34m,\u001b[0m \u001b[0mfeeds\u001b[0m\u001b[0;34m,\u001b[0m \u001b[0mfetches\u001b[0m\u001b[0;34m)\u001b[0m\u001b[0;34m\u001b[0m\u001b[0m\n",
      "\u001b[0;32m~/pie352-tf14/lib/python3.5/site-packages/tensorflow/python/client/session.py\u001b[0m in \u001b[0;36m_do_call\u001b[0;34m(self, fn, *args)\u001b[0m\n\u001b[1;32m   1321\u001b[0m   \u001b[0;32mdef\u001b[0m \u001b[0m_do_call\u001b[0m\u001b[0;34m(\u001b[0m\u001b[0mself\u001b[0m\u001b[0;34m,\u001b[0m \u001b[0mfn\u001b[0m\u001b[0;34m,\u001b[0m \u001b[0;34m*\u001b[0m\u001b[0margs\u001b[0m\u001b[0;34m)\u001b[0m\u001b[0;34m:\u001b[0m\u001b[0;34m\u001b[0m\u001b[0m\n\u001b[1;32m   1322\u001b[0m     \u001b[0;32mtry\u001b[0m\u001b[0;34m:\u001b[0m\u001b[0;34m\u001b[0m\u001b[0m\n\u001b[0;32m-> 1323\u001b[0;31m       \u001b[0;32mreturn\u001b[0m \u001b[0mfn\u001b[0m\u001b[0;34m(\u001b[0m\u001b[0;34m*\u001b[0m\u001b[0margs\u001b[0m\u001b[0;34m)\u001b[0m\u001b[0;34m\u001b[0m\u001b[0m\n\u001b[0m\u001b[1;32m   1324\u001b[0m     \u001b[0;32mexcept\u001b[0m \u001b[0merrors\u001b[0m\u001b[0;34m.\u001b[0m\u001b[0mOpError\u001b[0m \u001b[0;32mas\u001b[0m \u001b[0me\u001b[0m\u001b[0;34m:\u001b[0m\u001b[0;34m\u001b[0m\u001b[0m\n\u001b[1;32m   1325\u001b[0m       \u001b[0mmessage\u001b[0m \u001b[0;34m=\u001b[0m \u001b[0mcompat\u001b[0m\u001b[0;34m.\u001b[0m\u001b[0mas_text\u001b[0m\u001b[0;34m(\u001b[0m\u001b[0me\u001b[0m\u001b[0;34m.\u001b[0m\u001b[0mmessage\u001b[0m\u001b[0;34m)\u001b[0m\u001b[0;34m\u001b[0m\u001b[0m\n",
      "\u001b[0;32m~/pie352-tf14/lib/python3.5/site-packages/tensorflow/python/client/session.py\u001b[0m in \u001b[0;36m_run_fn\u001b[0;34m(session, feed_dict, fetch_list, target_list, options, run_metadata)\u001b[0m\n\u001b[1;32m   1300\u001b[0m           return tf_session.TF_Run(session, options,\n\u001b[1;32m   1301\u001b[0m                                    \u001b[0mfeed_dict\u001b[0m\u001b[0;34m,\u001b[0m \u001b[0mfetch_list\u001b[0m\u001b[0;34m,\u001b[0m \u001b[0mtarget_list\u001b[0m\u001b[0;34m,\u001b[0m\u001b[0;34m\u001b[0m\u001b[0m\n\u001b[0;32m-> 1302\u001b[0;31m                                    status, run_metadata)\n\u001b[0m\u001b[1;32m   1303\u001b[0m \u001b[0;34m\u001b[0m\u001b[0m\n\u001b[1;32m   1304\u001b[0m     \u001b[0;32mdef\u001b[0m \u001b[0m_prun_fn\u001b[0m\u001b[0;34m(\u001b[0m\u001b[0msession\u001b[0m\u001b[0;34m,\u001b[0m \u001b[0mhandle\u001b[0m\u001b[0;34m,\u001b[0m \u001b[0mfeed_dict\u001b[0m\u001b[0;34m,\u001b[0m \u001b[0mfetch_list\u001b[0m\u001b[0;34m)\u001b[0m\u001b[0;34m:\u001b[0m\u001b[0;34m\u001b[0m\u001b[0m\n",
      "\u001b[0;31mKeyboardInterrupt\u001b[0m: "
     ]
    }
   ],
   "source": [
    "from keras import backend as K\n",
    "\n",
    "def root_mean_squared_logarithmic_error(y_true, y_pred):\n",
    "    ret = losses.mean_squared_logarithmic_error(y_true, y_pred)\n",
    "    return K.sqrt(ret)\n",
    "\n",
    "def root_mean_squared_error(y_true, y_pred):\n",
    "    ret = losses.mean_squared_error(y_true, y_pred)\n",
    "    return K.sqrt(ret)\n",
    "\n",
    "\n",
    "model.compile(optimizer='adam', loss=root_mean_squared_error, metrics=[root_mean_squared_logarithmic_error])\n",
    "\n",
    "history_simple = model.fit(\n",
    "    [x_f_train, x_cat_train, x_brand_train, X_seq_train], y_train,\n",
    "    batch_size=batch_size,\n",
    "    epochs=10,\n",
    "    shuffle=True)#,\n",
    "    #validation_data=[x_test_pad, y_test])"
   ]
  },
  {
   "cell_type": "code",
   "execution_count": null,
   "metadata": {},
   "outputs": [],
   "source": []
  }
 ],
 "metadata": {
  "kernelspec": {
   "display_name": "Python 3",
   "language": "python",
   "name": "python3"
  },
  "language_info": {
   "codemirror_mode": {
    "name": "ipython",
    "version": 3
   },
   "file_extension": ".py",
   "mimetype": "text/x-python",
   "name": "python",
   "nbconvert_exporter": "python",
   "pygments_lexer": "ipython3",
   "version": "3.5.2"
  }
 },
 "nbformat": 4,
 "nbformat_minor": 2
}
