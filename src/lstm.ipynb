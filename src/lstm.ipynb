{
 "cells": [
  {
   "cell_type": "code",
   "execution_count": 1,
   "metadata": {},
   "outputs": [
    {
     "name": "stderr",
     "output_type": "stream",
     "text": [
      "Using TensorFlow backend.\n"
     ]
    }
   ],
   "source": [
    "import os\n",
    "import numpy as np\n",
    "\n",
    "from keras.preprocessing import sequence\n",
    "import keras.models as km\n",
    "import keras.layers as kl\n",
    "import keras.constraints as kc\n",
    "from keras.datasets import imdb\n",
    "from keras import losses\n",
    "from keras.models import load_model\n",
    "import keras\n",
    "\n",
    "from keras.utils.vis_utils import model_to_dot\n",
    "\n",
    "import matplotlib.pyplot as plt\n",
    "%matplotlib inline\n",
    "\n",
    "from IPython.display import SVG\n",
    "\n",
    "import ipywidgets as ipw\n",
    "\n",
    "import data_preparation as mdp\n",
    "from data_preparation import MercariConfig"
   ]
  },
  {
   "cell_type": "code",
   "execution_count": 2,
   "metadata": {},
   "outputs": [
    {
     "name": "stderr",
     "output_type": "stream",
     "text": [
      "2018-01-30 11:00:09,685 - MerL.data_preparation - INFO - Loading index_sequence_data from mercari_train_name_index.csv ...\n",
      "2018-01-30 11:00:10,051 - MerL.data_preparation - INFO - Loading index_sequence_data from mercari_train_name_index.csv done.\n",
      "2018-01-30 11:00:10,051 - MerL.data_preparation - INFO - Loading index_sequence_data from mercari_train_item_desc_index.csv ...\n",
      "2018-01-30 11:00:16,888 - MerL.data_preparation - INFO - Loading index_sequence_data from mercari_train_item_desc_index.csv done.\n"
     ]
    },
    {
     "name": "stdout",
     "output_type": "stream",
     "text": [
      "CPU times: user 7.08 s, sys: 1.05 s, total: 8.13 s\n",
      "Wall time: 8.13 s\n"
     ]
    }
   ],
   "source": [
    "%%time\n",
    "\n",
    "X_name_seq_train, X_item_desc_seq_train, x_cat_train, x_brand_train, x_f_train, y_train = mdp.get_data_for_training(\n",
    "    MercariConfig.TRAINING_SET_PREP_FILE, \n",
    "    MercariConfig.TRAINING_NAME_INDEX_FILE,\n",
    "    MercariConfig.TRAINING_ITEM_DESC_INDEX_FILE,\n",
    "    MercariConfig.MAX_WORDS_IN_NAME,\n",
    "    MercariConfig.MAX_WORDS_IN_ITEM_DESC)"
   ]
  },
  {
   "cell_type": "code",
   "execution_count": 3,
   "metadata": {},
   "outputs": [
    {
     "name": "stdout",
     "output_type": "stream",
     "text": [
      "(237205, 21) (237205, 301) (237205,) (237205,) (237205, 2) (237205,)\n"
     ]
    }
   ],
   "source": [
    "print(X_name_seq_train.shape, X_item_desc_seq_train.shape, \n",
    "      x_cat_train.shape, x_brand_train.shape, x_f_train.shape, y_train.shape)"
   ]
  },
  {
   "cell_type": "code",
   "execution_count": 4,
   "metadata": {},
   "outputs": [
    {
     "name": "stderr",
     "output_type": "stream",
     "text": [
      "2018-01-30 11:00:20,297 - MerL.data_preparation - INFO - Loading index_sequence_data from mercari_val_name_index.csv ...\n",
      "2018-01-30 11:00:20,346 - MerL.data_preparation - INFO - Loading index_sequence_data from mercari_val_name_index.csv done.\n",
      "2018-01-30 11:00:20,347 - MerL.data_preparation - INFO - Loading index_sequence_data from mercari_val_item_desc_index.csv ...\n",
      "2018-01-30 11:00:21,145 - MerL.data_preparation - INFO - Loading index_sequence_data from mercari_val_item_desc_index.csv done.\n"
     ]
    },
    {
     "name": "stdout",
     "output_type": "stream",
     "text": [
      "CPU times: user 960 ms, sys: 8 ms, total: 968 ms\n",
      "Wall time: 963 ms\n"
     ]
    }
   ],
   "source": [
    "%%time\n",
    "\n",
    "X_name_seq_val, X_item_desc_seq_val, x_cat_val, x_brand_val, x_f_val, y_val = mdp.get_data_for_training(\n",
    "    MercariConfig.VALIDATION_SET_PREP_FILE, \n",
    "    MercariConfig.VALIDATION_NAME_INDEX_FILE,\n",
    "    MercariConfig.VALIDATION_ITEM_DESC_INDEX_FILE,\n",
    "    MercariConfig.MAX_WORDS_IN_NAME,\n",
    "    MercariConfig.MAX_WORDS_IN_ITEM_DESC)"
   ]
  },
  {
   "cell_type": "code",
   "execution_count": 5,
   "metadata": {},
   "outputs": [
    {
     "name": "stdout",
     "output_type": "stream",
     "text": [
      "(29651, 21) (29651, 301) (29651,) (29651,) (29651, 2) (29651,)\n"
     ]
    }
   ],
   "source": [
    "print(X_name_seq_val.shape,X_item_desc_seq_val.shape, \n",
    "      x_cat_val.shape, x_brand_val.shape, x_f_val.shape, y_val.shape)"
   ]
  },
  {
   "cell_type": "code",
   "execution_count": 6,
   "metadata": {},
   "outputs": [],
   "source": [
    "num_words_item_desc = MercariConfig.MAX_WORDS_FROM_INDEX_4_ITEM_DESC + MercariConfig.WORD_I\n",
    "max_seq_len_item_desc = MercariConfig.MAX_WORDS_IN_ITEM_DESC + 1 # Remember: first word is always <START>\n",
    "\n",
    "num_words_name = MercariConfig.MAX_WORDS_FROM_INDEX_4_NAME + MercariConfig.WORD_I\n",
    "max_seq_len_name = MercariConfig.MAX_WORDS_IN_NAME + 1 # Remember: first word is always <START>\n",
    "\n",
    "X_name_seq_train, X_item_desc_seq_train = mdp.pad_sequences(X_name_seq=X_name_seq_train, \n",
    "                                                        X_item_desc_seq=X_item_desc_seq_train, \n",
    "                                                        max_seq_len_name=max_seq_len_name,\n",
    "                                                        max_seq_len_item_desc=max_seq_len_item_desc)\n",
    "\n",
    "X_name_seq_val, X_item_desc_seq_val = mdp.pad_sequences(X_name_seq=X_name_seq_val, \n",
    "                                                        X_item_desc_seq=X_item_desc_seq_val, \n",
    "                                                        max_seq_len_name=max_seq_len_name,\n",
    "                                                        max_seq_len_item_desc=max_seq_len_item_desc)"
   ]
  },
  {
   "cell_type": "code",
   "execution_count": 7,
   "metadata": {},
   "outputs": [],
   "source": [
    "word_embedding_dims = 32\n",
    "cat_embedding_dims = 10\n",
    "\n",
    "num_categories = 1098\n",
    "num_brands = 2767\n",
    "\n",
    "\n",
    "model = mdp.build_keras_model(word_embedding_dims=word_embedding_dims, \n",
    "                      num_words_name=num_words_name, max_seq_len_name=max_seq_len_name, \n",
    "                      num_words_item_desc=num_words_item_desc, max_seq_len_item_desc=max_seq_len_item_desc,\n",
    "                      cat_embedding_dims=cat_embedding_dims,\n",
    "                      num_categories=num_categories, num_brands=num_brands)"
   ]
  },
  {
   "cell_type": "code",
   "execution_count": 8,
   "metadata": {},
   "outputs": [],
   "source": [
    "#SVG(model_to_dot(model).create(prog='dot', format='svg'))"
   ]
  },
  {
   "cell_type": "code",
   "execution_count": 9,
   "metadata": {},
   "outputs": [
    {
     "name": "stdout",
     "output_type": "stream",
     "text": [
      "__________________________________________________________________________________________________\n",
      "Layer (type)                    Output Shape         Param #     Connected to                     \n",
      "==================================================================================================\n",
      "name_input (InputLayer)         (None, 21)           0                                            \n",
      "__________________________________________________________________________________________________\n",
      "item_desc_input (InputLayer)    (None, 301)          0                                            \n",
      "__________________________________________________________________________________________________\n",
      "name_embedding (Embedding)      (None, 21, 32)       992256      name_input[0][0]                 \n",
      "__________________________________________________________________________________________________\n",
      "item_desc_embedding (Embedding) (None, 301, 32)      1280256     item_desc_input[0][0]            \n",
      "__________________________________________________________________________________________________\n",
      "name_embedding_dropout (Spatial (None, 21, 32)       0           name_embedding[0][0]             \n",
      "__________________________________________________________________________________________________\n",
      "item_desc_embedding_dropout (Sp (None, 301, 32)      0           item_desc_embedding[0][0]        \n",
      "__________________________________________________________________________________________________\n",
      "name_lstm_1 (CuDNNLSTM)         (None, 21, 100)      53600       name_embedding_dropout[0][0]     \n",
      "__________________________________________________________________________________________________\n",
      "item_desc_lstm_1 (CuDNNLSTM)    (None, 301, 200)     187200      item_desc_embedding_dropout[0][0]\n",
      "__________________________________________________________________________________________________\n",
      "category_input (InputLayer)     (None, 1)            0                                            \n",
      "__________________________________________________________________________________________________\n",
      "brand_input (InputLayer)        (None, 1)            0                                            \n",
      "__________________________________________________________________________________________________\n",
      "name_lstm_2 (CuDNNLSTM)         (None, 100)          80800       name_lstm_1[0][0]                \n",
      "__________________________________________________________________________________________________\n",
      "item_desc_lstm_2 (CuDNNLSTM)    (None, 200)          321600      item_desc_lstm_1[0][0]           \n",
      "__________________________________________________________________________________________________\n",
      "category_embedding (Embedding)  (None, 1, 10)        10980       category_input[0][0]             \n",
      "__________________________________________________________________________________________________\n",
      "brand_embedding (Embedding)     (None, 1, 10)        27670       brand_input[0][0]                \n",
      "__________________________________________________________________________________________________\n",
      "name_lstm_dropout (Dropout)     (None, 100)          0           name_lstm_2[0][0]                \n",
      "__________________________________________________________________________________________________\n",
      "item_desc_lstm_dropout (Dropout (None, 200)          0           item_desc_lstm_2[0][0]           \n",
      "__________________________________________________________________________________________________\n",
      "category_reshape (Reshape)      (None, 10)           0           category_embedding[0][0]         \n",
      "__________________________________________________________________________________________________\n",
      "brand_reshape (Reshape)         (None, 10)           0           brand_embedding[0][0]            \n",
      "__________________________________________________________________________________________________\n",
      "feature_input (InputLayer)      (None, 2)            0                                            \n",
      "__________________________________________________________________________________________________\n",
      "input_fusion (Concatenate)      (None, 322)          0           name_lstm_dropout[0][0]          \n",
      "                                                                 item_desc_lstm_dropout[0][0]     \n",
      "                                                                 category_reshape[0][0]           \n",
      "                                                                 brand_reshape[0][0]              \n",
      "                                                                 feature_input[0][0]              \n",
      "__________________________________________________________________________________________________\n",
      "fusion_dense_1 (Dense)          (None, 400)          129200      input_fusion[0][0]               \n",
      "__________________________________________________________________________________________________\n",
      "fusion_dense_2 (Dense)          (None, 200)          80200       fusion_dense_1[0][0]             \n",
      "__________________________________________________________________________________________________\n",
      "fusion_dense_3 (Dense)          (None, 1)            201         fusion_dense_2[0][0]             \n",
      "==================================================================================================\n",
      "Total params: 3,163,963\n",
      "Trainable params: 3,163,963\n",
      "Non-trainable params: 0\n",
      "__________________________________________________________________________________________________\n"
     ]
    }
   ],
   "source": [
    "#model.summary()"
   ]
  },
  {
   "cell_type": "code",
   "execution_count": 10,
   "metadata": {},
   "outputs": [],
   "source": [
    "#model = mdp.load_keras_model('merl_model-v3_10.h5')"
   ]
  },
  {
   "cell_type": "code",
   "execution_count": null,
   "metadata": {},
   "outputs": [],
   "source": [
    "tf_log_dir = MercariConfig.get_new_tf_log_dir()\n",
    "\n",
    "batch_size = None\n",
    "\n",
    "tb_callback = keras.callbacks.TensorBoard(log_dir=tf_log_dir, histogram_freq=0, batch_size=batch_size, \n",
    "                            write_graph=True, write_grads=False, write_images=False, \n",
    "                            embeddings_freq=0, embeddings_layer_names=None, embeddings_metadata=None)\n",
    "\n",
    "#reduce_lr = ReduceLROnPlateau(monitor='val_loss', factor=0.2,\n",
    "#                              patience=3, min_lr=0.001)\n",
    "\n",
    "history_simple = model.fit(\n",
    "    [x_f_train, x_cat_train, x_brand_train, X_name_seq_train, X_item_desc_seq_train], y_train,\n",
    "    [x_f_val, x_cat_val, x_brand_val, X_name_seq_val, X_item_desc_seq_val], y_val,\n",
    "    batch_size=None,\n",
    "    epochs=1,\n",
    "    verbose=1,\n",
    "#    callbacks=[tb_callback],\n",
    "    shuffle=True,\n",
    "    initial_epoch=0,\n",
    "    steps_per_epoch=None,\n",
    "    validation_data=[[x_f_val, x_cat_val, x_brand_val, X_name_seq_val, X_item_desc_seq_val], y_val])"
   ]
  },
  {
   "cell_type": "code",
   "execution_count": null,
   "metadata": {},
   "outputs": [],
   "source": []
  }
 ],
 "metadata": {
  "kernelspec": {
   "display_name": "Python 3",
   "language": "python",
   "name": "python3"
  },
  "language_info": {
   "codemirror_mode": {
    "name": "ipython",
    "version": 3
   },
   "file_extension": ".py",
   "mimetype": "text/x-python",
   "name": "python",
   "nbconvert_exporter": "python",
   "pygments_lexer": "ipython3",
   "version": "3.5.2"
  }
 },
 "nbformat": 4,
 "nbformat_minor": 2
}
