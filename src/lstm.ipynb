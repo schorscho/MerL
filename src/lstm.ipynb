{
 "cells": [
  {
   "cell_type": "code",
   "execution_count": null,
   "metadata": {},
   "outputs": [],
   "source": [
    "import numpy as np\n",
    "\n",
    "from keras.preprocessing import sequence\n",
    "import keras.models as km\n",
    "import keras.layers as kl\n",
    "import keras.constraints as kc\n",
    "from keras.datasets import imdb\n",
    "\n",
    "import matplotlib.pyplot as plt\n",
    "%matplotlib inline\n",
    "\n",
    "import ipywidgets as ipw\n",
    "\n",
    "import data_preparation as mdp\n",
    "from mercari_config import MercariConfig\n",
    "from timer import Timer"
   ]
  },
  {
   "cell_type": "code",
   "execution_count": null,
   "metadata": {},
   "outputs": [],
   "source": [
    "num_words = MercariConfig.MAX_WORDS_FROM_INDEX + MercariConfig.INDICATOR_WORDS_COUNT\n",
    "max_len = MercariConfig.MAX_WORDS_ITEM_DESC + 1\n",
    "batch_size = 32"
   ]
  },
  {
   "cell_type": "code",
   "execution_count": null,
   "metadata": {},
   "outputs": [],
   "source": [
    "with Timer():\n",
    "    train_word_seq = mdp.load_data(MercariConfig.TRAINING_ITEM_DESC_W2I_FILE)\n",
    "    X_train = train_word_seq.as_matrix()"
   ]
  },
  {
   "cell_type": "code",
   "execution_count": null,
   "metadata": {},
   "outputs": [],
   "source": [
    "with Timer():\n",
    "    train_data = mdp.load_data(MercariConfig.TRAINING_SET_PREP_FILE)\n",
    "    y_train = train_data['price'].as_matrix()"
   ]
  },
  {
   "cell_type": "code",
   "execution_count": null,
   "metadata": {},
   "outputs": [],
   "source": [
    "with Timer():\n",
    "    X_train = sequence.pad_sequences(X_train, maxlen=max_len, padding='post', truncating='post')\n",
    "#x_test_pad = sequence.pad_sequences(x_test, maxlen=max_len, padding='post', truncating='post')\n",
    "\n",
    "#y_train = np.array(y_train)\n",
    "#y_test = np.array(y_test)"
   ]
  },
  {
   "cell_type": "code",
   "execution_count": null,
   "metadata": {},
   "outputs": [],
   "source": [
    "X_train"
   ]
  },
  {
   "cell_type": "code",
   "execution_count": null,
   "metadata": {},
   "outputs": [],
   "source": [
    "sequence_input = kl.Input(shape=(maxlen,))\n",
    "\n",
    "sequence_embeddings = kl.Embedding(num_words + 3, 32)\n",
    "lstm_layer = kl.CuDNNLSTM(32)\n",
    "clf_layer = kl.Dense(1, activation='sigmoid')\n",
    "\n",
    "output = sequence_embeddings(sequence_input)\n",
    "output = kl.SpatialDropout1D(0.5)(output)\n",
    "output = lstm_layer(output)\n",
    "output = kl.Dropout(0.5)(output)\n",
    "output = clf_layer(output)\n",
    "\n",
    "simple_model = km.Model(inputs=sequence_input, outputs=output)"
   ]
  },
  {
   "cell_type": "code",
   "execution_count": null,
   "metadata": {},
   "outputs": [],
   "source": [
    "simple_model.summary()"
   ]
  },
  {
   "cell_type": "code",
   "execution_count": null,
   "metadata": {},
   "outputs": [],
   "source": [
    "simple_model.compile('adadelta', 'binary_crossentropy', metrics=['accuracy'])\n",
    "\n",
    "history_simple = simple_model.fit(\n",
    "    x_train_pad, y_train,\n",
    "    batch_size=batch_size,\n",
    "    epochs=10,\n",
    "    shuffle=True,\n",
    "    validation_data=[x_test_pad, y_test])"
   ]
  },
  {
   "cell_type": "code",
   "execution_count": null,
   "metadata": {},
   "outputs": [],
   "source": []
  }
 ],
 "metadata": {
  "kernelspec": {
   "display_name": "Python 3",
   "language": "python",
   "name": "python3"
  },
  "language_info": {
   "codemirror_mode": {
    "name": "ipython",
    "version": 3
   },
   "file_extension": ".py",
   "mimetype": "text/x-python",
   "name": "python",
   "nbconvert_exporter": "python",
   "pygments_lexer": "ipython3",
   "version": "3.5.2"
  }
 },
 "nbformat": 4,
 "nbformat_minor": 2
}
