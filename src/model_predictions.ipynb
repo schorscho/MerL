{
 "cells": [
  {
   "cell_type": "code",
   "execution_count": 1,
   "metadata": {},
   "outputs": [
    {
     "name": "stderr",
     "output_type": "stream",
     "text": [
      "Using TensorFlow backend.\n"
     ]
    }
   ],
   "source": [
    "import os\n",
    "import numpy as np\n",
    "\n",
    "from keras.preprocessing import sequence\n",
    "import keras.models as km\n",
    "import keras.layers as kl\n",
    "import keras.constraints as kc\n",
    "from keras.datasets import imdb\n",
    "from keras import losses\n",
    "from keras.models import load_model\n",
    "import keras\n",
    "\n",
    "from keras.utils.vis_utils import model_to_dot\n",
    "\n",
    "import matplotlib.pyplot as plt\n",
    "%matplotlib inline\n",
    "\n",
    "from IPython.display import SVG\n",
    "\n",
    "import ipywidgets as ipw\n",
    "\n",
    "import data_preparation as mdp\n",
    "from data_preparation import MercariConfig"
   ]
  },
  {
   "cell_type": "code",
   "execution_count": 2,
   "metadata": {},
   "outputs": [
    {
     "name": "stderr",
     "output_type": "stream",
     "text": [
      "2018-02-01 16:52:52,219 - MerL.data_preparation - INFO - Loading index_sequence_data from mercari_test_name_index ...\n",
      "2018-02-01 16:52:52,739 - MerL.data_preparation - INFO - Loading index_sequence_data from mercari_test_name_index_WP03R00_DP01R00.csv done.\n",
      "2018-02-01 16:52:52,740 - MerL.data_preparation - INFO - Loading index_sequence_data from mercari_test_item_desc_index ...\n",
      "2018-02-01 16:53:04,310 - MerL.data_preparation - INFO - Loading index_sequence_data from mercari_test_item_desc_index_WP03R00_DP01R00.csv done.\n"
     ]
    },
    {
     "name": "stdout",
     "output_type": "stream",
     "text": [
      "CPU times: user 11.9 s, sys: 1.36 s, total: 13.2 s\n",
      "Wall time: 13.3 s\n"
     ]
    }
   ],
   "source": [
    "%%time\n",
    "\n",
    "x_name_seq, x_item_desc_seq, x_cat, x_brand, x_cond, x_ship, y = mdp.get_data_for_training(\n",
    "    MercariConfig.TEST_SET_PREP_FILE, \n",
    "    MercariConfig.TEST_NAME_INDEX_FILE,\n",
    "    MercariConfig.TEST_ITEM_DESC_INDEX_FILE,\n",
    "    MercariConfig.MAX_WORDS_IN_NAME,\n",
    "    MercariConfig.MAX_WORDS_IN_ITEM_DESC)"
   ]
  },
  {
   "cell_type": "code",
   "execution_count": 3,
   "metadata": {
    "scrolled": true
   },
   "outputs": [
    {
     "name": "stdout",
     "output_type": "stream",
     "text": [
      "(296508, 21) (296508, 301) (296508,) (296508,) (296508,) (296508,) (296508,)\n"
     ]
    }
   ],
   "source": [
    "print(x_name_seq.shape,x_item_desc_seq.shape, \n",
    "      x_cat.shape, x_brand.shape, x_cond.shape, x_ship.shape, y.shape)"
   ]
  },
  {
   "cell_type": "code",
   "execution_count": 4,
   "metadata": {},
   "outputs": [],
   "source": [
    "num_words_item_desc = MercariConfig.MAX_WORDS_FROM_INDEX_4_ITEM_DESC + MercariConfig.WORD_I\n",
    "max_seq_len_item_desc = MercariConfig.MAX_WORDS_IN_ITEM_DESC + 1 # Remember: first word is always <START>\n",
    "\n",
    "num_words_name = MercariConfig.MAX_WORDS_FROM_INDEX_4_NAME + MercariConfig.WORD_I\n",
    "max_seq_len_name = MercariConfig.MAX_WORDS_IN_NAME + 1 # Remember: first word is always <START>\n",
    "\n",
    "x_name_seq, x_item_desc_seq = mdp.pad_sequences(x_name_seq=x_name_seq, \n",
    "                                                x_item_desc_seq=x_item_desc_seq,\n",
    "                                                max_seq_len_name=max_seq_len_name,\n",
    "                                                max_seq_len_item_desc=max_seq_len_item_desc)"
   ]
  },
  {
   "cell_type": "code",
   "execution_count": 5,
   "metadata": {},
   "outputs": [],
   "source": [
    "model = mdp.load_keras_model('TR019_MV01R02_OV01R00_WP03R00_DP01R00_SE00_EE10_EP10-0.4149_20180201-151847.hdf5')"
   ]
  },
  {
   "cell_type": "code",
   "execution_count": 6,
   "metadata": {},
   "outputs": [
    {
     "name": "stdout",
     "output_type": "stream",
     "text": [
      "296508/296508 [==============================] - 146s 491us/step\n"
     ]
    }
   ],
   "source": [
    "x = [x_cond, x_ship, x_cat, x_brand, x_name_seq, x_item_desc_seq]\n",
    "loss = model.evaluate(x=x, y=y, batch_size=200, verbose=1, sample_weight=None, steps=None)"
   ]
  },
  {
   "cell_type": "code",
   "execution_count": 8,
   "metadata": {},
   "outputs": [
    {
     "data": {
      "text/plain": [
       "[0.41467583587990881, 12.226156804781839]"
      ]
     },
     "execution_count": 8,
     "metadata": {},
     "output_type": "execute_result"
    }
   ],
   "source": [
    "loss"
   ]
  },
  {
   "cell_type": "code",
   "execution_count": null,
   "metadata": {},
   "outputs": [],
   "source": []
  }
 ],
 "metadata": {
  "kernelspec": {
   "display_name": "Python 3",
   "language": "python",
   "name": "python3"
  },
  "language_info": {
   "codemirror_mode": {
    "name": "ipython",
    "version": 3
   },
   "file_extension": ".py",
   "mimetype": "text/x-python",
   "name": "python",
   "nbconvert_exporter": "python",
   "pygments_lexer": "ipython3",
   "version": "3.5.2"
  }
 },
 "nbformat": 4,
 "nbformat_minor": 2
}
