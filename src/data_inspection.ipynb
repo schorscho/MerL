{
 "cells": [
  {
   "cell_type": "code",
   "execution_count": 1,
   "metadata": {},
   "outputs": [
    {
     "name": "stdout",
     "output_type": "stream",
     "text": [
      "/Users/gopora/MyStuff/Dev/spark-2.2.0-bin-hadoop2.7\n",
      "['/private/var/folders/ky/23x8h1fj78j69f8jpsg_9j2r0000gn/T/spark-df5fdbcc-d6a1-498c-a981-a2c8451587f9/userFiles-cca6181d-6e40-4b42-9f0a-8a1b7d0dc972', '', '/Users/gopora/MyStuff/Dev/spark-2.2.0-bin-hadoop2.7/python/lib/py4j-0.10.4-src.zip', '/Users/gopora/MyStuff/Dev/spark-2.2.0-bin-hadoop2.7/python', '/Users/gopora/MyStuff/Dev/Workspaces/Mercari/src', '/Users/gopora/MyStuff/Dev/python-virtual-envs/pie36-tf13/lib/python36.zip', '/Users/gopora/MyStuff/Dev/python-virtual-envs/pie36-tf13/lib/python3.6', '/Users/gopora/MyStuff/Dev/python-virtual-envs/pie36-tf13/lib/python3.6/lib-dynload', '/Library/Frameworks/Python.framework/Versions/3.6/lib/python3.6', '/Users/gopora/MyStuff/Dev/python-virtual-envs/pie36-tf13/lib/python3.6/site-packages', '/Users/gopora/MyStuff/Dev/python-virtual-envs/pie36-tf13/lib/python3.6/site-packages/IPython/extensions', '/Users/gopora/.ipython']\n"
     ]
    },
    {
     "data": {
      "text/plain": [
       "[('spark.driver.port', '58212'),\n",
       " ('spark.driver.host', '192.168.178.175'),\n",
       " ('spark.app.id', 'local-1513602667659'),\n",
       " ('spark.executor.id', 'driver'),\n",
       " ('spark.app.name', 'PySparkShell'),\n",
       " ('spark.driver.cores', '3'),\n",
       " ('spark.python.worker.memory', '8g'),\n",
       " ('spark.sql.catalogImplementation', 'hive'),\n",
       " ('spark.driver.maxResultSize', '8g'),\n",
       " ('spark.rdd.compress', 'True'),\n",
       " ('spark.driver.memory', '8g'),\n",
       " ('spark.serializer.objectStreamReset', '100'),\n",
       " ('spark.master', 'local[*]'),\n",
       " ('spark.executor.memory', '8g'),\n",
       " ('spark.executor.cores', '3'),\n",
       " ('spark.submit.deployMode', 'client')]"
      ]
     },
     "execution_count": 1,
     "metadata": {},
     "output_type": "execute_result"
    }
   ],
   "source": [
    "import os\n",
    "import sys\n",
    "\n",
    "from mercari_config import MercariConfig\n",
    "from timer import Timer\n",
    "\n",
    "print(os.environ['SPARK_HOME'])\n",
    "print(sys.path)\n",
    "sc.getConf().getAll()"
   ]
  },
  {
   "cell_type": "code",
   "execution_count": 6,
   "metadata": {},
   "outputs": [],
   "source": [
    "df = spark.read.csv(path=os.path.join(MercariConfig.DATASETS_DIR, MercariConfig.TEST_SET_DATA_FILE), \n",
    "                    header=True, sep='\\t', inferSchema=True)"
   ]
  },
  {
   "cell_type": "code",
   "execution_count": 25,
   "metadata": {},
   "outputs": [
    {
     "data": {
      "text/plain": [
       "693359"
      ]
     },
     "execution_count": 25,
     "metadata": {},
     "output_type": "execute_result"
    }
   ],
   "source": [
    "df.count()"
   ]
  },
  {
   "cell_type": "code",
   "execution_count": 15,
   "metadata": {},
   "outputs": [
    {
     "data": {
      "text/plain": [
       "7"
      ]
     },
     "execution_count": 15,
     "metadata": {},
     "output_type": "execute_result"
    }
   ],
   "source": [
    "len(df.columns)"
   ]
  },
  {
   "cell_type": "code",
   "execution_count": 16,
   "metadata": {},
   "outputs": [
    {
     "data": {
      "text/plain": [
       "['test_id',\n",
       " 'name',\n",
       " 'item_condition_id',\n",
       " 'category_name',\n",
       " 'brand_name',\n",
       " 'shipping',\n",
       " 'item_description']"
      ]
     },
     "execution_count": 16,
     "metadata": {},
     "output_type": "execute_result"
    }
   ],
   "source": [
    "df.columns"
   ]
  },
  {
   "cell_type": "code",
   "execution_count": 17,
   "metadata": {},
   "outputs": [
    {
     "name": "stdout",
     "output_type": "stream",
     "text": [
      "root\n",
      " |-- test_id: integer (nullable = true)\n",
      " |-- name: string (nullable = true)\n",
      " |-- item_condition_id: integer (nullable = true)\n",
      " |-- category_name: string (nullable = true)\n",
      " |-- brand_name: string (nullable = true)\n",
      " |-- shipping: integer (nullable = true)\n",
      " |-- item_description: string (nullable = true)\n",
      "\n"
     ]
    }
   ],
   "source": [
    "df.printSchema()"
   ]
  },
  {
   "cell_type": "code",
   "execution_count": 31,
   "metadata": {},
   "outputs": [
    {
     "name": "stdout",
     "output_type": "stream",
     "text": [
      "609555\n",
      "+--------------------+\n",
      "|    item_description|\n",
      "+--------------------+\n",
      "|BLOUSE BY BEBE ST...|\n",
      "|This is an exclus...|\n",
      "|New / Unopened. T...|\n",
      "|Size: 4 Year Nice...|\n",
      "|Ceramic Mug / Iri...|\n",
      "|New. Never worn. ...|\n",
      "|See my other cute...|\n",
      "|Excellent conditi...|\n",
      "|‼️This is posted ...|\n",
      "|\"Reserved for Cal...|\n",
      "|• Nails • Slime •...|\n",
      "|      Nintendo games|\n",
      "|Clear Lens fashio...|\n",
      "|NWT VS pink chant...|\n",
      "|New in box. Gray,...|\n",
      "|Nwt, retail [rm] ...|\n",
      "|Price is for both...|\n",
      "|Brand new panda l...|\n",
      "|Rose gold/ivory p...|\n",
      "|LEI Size 9 Tatum ...|\n",
      "+--------------------+\n",
      "only showing top 20 rows\n",
      "\n",
      "None\n",
      "+--------------------+-----+\n",
      "|    item_description|count|\n",
      "+--------------------+-----+\n",
      "|! ! Bundle & Save...|    2|\n",
      "|! ! Bundle & Save...|    1|\n",
      "|! ****BUY TODAY O...|    1|\n",
      "|! Brand new black...|    1|\n",
      "|! Brand new with ...|    3|\n",
      "|! Brand new with ...|    3|\n",
      "|! Brand new with ...|    1|\n",
      "|! Brand new with ...|    1|\n",
      "|! Burgundy top [r...|    1|\n",
      "|! PLEASE READ ! T...|    1|\n",
      "|! THE MORE YOU BU...|    6|\n",
      "|! Very rare ! sil...|    1|\n",
      "|! Victoria secret...|    1|\n",
      "|!! Be warned of o...|    1|\n",
      "|!! Be warned of o...|    1|\n",
      "|!! Be warned of o...|    1|\n",
      "|!! Be warned of o...|    1|\n",
      "|!! Be warned of o...|    1|\n",
      "|!! Be warned of o...|    1|\n",
      "|!! Be warned of o...|    1|\n",
      "+--------------------+-----+\n",
      "only showing top 20 rows\n",
      "\n",
      "None\n",
      "+-------+--------------------+\n",
      "|summary|    item_description|\n",
      "+-------+--------------------+\n",
      "|  count|              693359|\n",
      "|   mean|  1141.2924691358025|\n",
      "| stddev|    8908.90843270621|\n",
      "|    min|! ! Bundle & Save...|\n",
      "|    max|                 ��S|\n",
      "+-------+--------------------+\n",
      "\n",
      "None\n",
      "0\n",
      "0\n",
      "0\n"
     ]
    }
   ],
   "source": [
    "from pyspark.sql.functions import isnan, when, count, col\n",
    "\n",
    "col = df.item_description\n",
    "\n",
    "print(df.select(col).distinct().count())\n",
    "print(df.select(col).distinct().show())\n",
    "print(df.groupBy(col).count().orderBy(col).show())\n",
    "print(df.select(col).describe().show())\n",
    "print(df.filter(isnan(col)).count())\n",
    "print(df.filter(col.isNull()).count())\n",
    "print(df.filter(col == \"NA\").count())\n"
   ]
  },
  {
   "cell_type": "markdown",
   "metadata": {},
   "source": [
    "df.select(df.item_description).len()"
   ]
  },
  {
   "cell_type": "code",
   "execution_count": 8,
   "metadata": {},
   "outputs": [
    {
     "name": "stdout",
     "output_type": "stream",
     "text": [
      "+---+-----+\n",
      "|  a|count|\n",
      "+---+-----+\n",
      "| 65|  949|\n",
      "| 63| 4283|\n",
      "| 61|  142|\n",
      "| 60| 5398|\n",
      "| 59|12073|\n",
      "| 58|  251|\n",
      "| 57| 1360|\n",
      "| 56| 1563|\n",
      "| 55| 3267|\n",
      "| 54| 1086|\n",
      "| 53|  226|\n",
      "| 52|  390|\n",
      "| 51|  226|\n",
      "| 50| 3255|\n",
      "| 49| 4546|\n",
      "| 48| 1610|\n",
      "| 47| 3094|\n",
      "| 46|40216|\n",
      "| 45| 4337|\n",
      "| 44| 7774|\n",
      "+---+-----+\n",
      "only showing top 20 rows\n",
      "\n"
     ]
    }
   ],
   "source": [
    "from pyspark.sql.functions import col, size, length\n",
    "\n",
    "df.groupBy((length(df.category_name)).alias('a')).count().orderBy(col('a').desc()).show()"
   ]
  },
  {
   "cell_type": "code",
   "execution_count": 37,
   "metadata": {},
   "outputs": [
    {
     "data": {
      "text/plain": [
       "DataFrame[item_description: string]"
      ]
     },
     "execution_count": 37,
     "metadata": {},
     "output_type": "execute_result"
    }
   ],
   "source": [
    "dg"
   ]
  },
  {
   "cell_type": "code",
   "execution_count": 38,
   "metadata": {},
   "outputs": [
    {
     "data": {
      "text/plain": [
       "693359"
      ]
     },
     "execution_count": 38,
     "metadata": {},
     "output_type": "execute_result"
    }
   ],
   "source": [
    "dg.count()"
   ]
  },
  {
   "cell_type": "code",
   "execution_count": 44,
   "metadata": {},
   "outputs": [
    {
     "ename": "AttributeError",
     "evalue": "'DataFrame' object has no attribute 'len'",
     "output_type": "error",
     "traceback": [
      "\u001b[0;31m---------------------------------------------------------------------------\u001b[0m",
      "\u001b[0;31mAttributeError\u001b[0m                            Traceback (most recent call last)",
      "\u001b[0;32m<ipython-input-44-e9666c72ecf1>\u001b[0m in \u001b[0;36m<module>\u001b[0;34m()\u001b[0m\n\u001b[0;32m----> 1\u001b[0;31m \u001b[0mdg\u001b[0m\u001b[0;34m.\u001b[0m\u001b[0mlen\u001b[0m\u001b[0;34m(\u001b[0m\u001b[0;34m)\u001b[0m\u001b[0;34m.\u001b[0m\u001b[0mshow\u001b[0m\u001b[0;34m(\u001b[0m\u001b[0;34m)\u001b[0m\u001b[0;34m\u001b[0m\u001b[0m\n\u001b[0m",
      "\u001b[0;32m~/MyStuff/Dev/spark-2.2.0-bin-hadoop2.7/python/pyspark/sql/dataframe.py\u001b[0m in \u001b[0;36m__getattr__\u001b[0;34m(self, name)\u001b[0m\n\u001b[1;32m   1018\u001b[0m         \u001b[0;32mif\u001b[0m \u001b[0mname\u001b[0m \u001b[0;32mnot\u001b[0m \u001b[0;32min\u001b[0m \u001b[0mself\u001b[0m\u001b[0;34m.\u001b[0m\u001b[0mcolumns\u001b[0m\u001b[0;34m:\u001b[0m\u001b[0;34m\u001b[0m\u001b[0m\n\u001b[1;32m   1019\u001b[0m             raise AttributeError(\n\u001b[0;32m-> 1020\u001b[0;31m                 \"'%s' object has no attribute '%s'\" % (self.__class__.__name__, name))\n\u001b[0m\u001b[1;32m   1021\u001b[0m         \u001b[0mjc\u001b[0m \u001b[0;34m=\u001b[0m \u001b[0mself\u001b[0m\u001b[0;34m.\u001b[0m\u001b[0m_jdf\u001b[0m\u001b[0;34m.\u001b[0m\u001b[0mapply\u001b[0m\u001b[0;34m(\u001b[0m\u001b[0mname\u001b[0m\u001b[0;34m)\u001b[0m\u001b[0;34m\u001b[0m\u001b[0m\n\u001b[1;32m   1022\u001b[0m         \u001b[0;32mreturn\u001b[0m \u001b[0mColumn\u001b[0m\u001b[0;34m(\u001b[0m\u001b[0mjc\u001b[0m\u001b[0;34m)\u001b[0m\u001b[0;34m\u001b[0m\u001b[0m\n",
      "\u001b[0;31mAttributeError\u001b[0m: 'DataFrame' object has no attribute 'len'"
     ]
    }
   ],
   "source": [
    "dg.len().show()"
   ]
  },
  {
   "cell_type": "code",
   "execution_count": 41,
   "metadata": {},
   "outputs": [
    {
     "ename": "TypeError",
     "evalue": "'Column' object is not callable",
     "output_type": "error",
     "traceback": [
      "\u001b[0;31m---------------------------------------------------------------------------\u001b[0m",
      "\u001b[0;31mTypeError\u001b[0m                                 Traceback (most recent call last)",
      "\u001b[0;32m<ipython-input-41-56a09e53fb0e>\u001b[0m in \u001b[0;36m<module>\u001b[0;34m()\u001b[0m\n\u001b[0;32m----> 1\u001b[0;31m \u001b[0mdg\u001b[0m\u001b[0;34m[\u001b[0m\u001b[0;36m0\u001b[0m\u001b[0;34m]\u001b[0m\u001b[0;34m.\u001b[0m\u001b[0mlen\u001b[0m\u001b[0;34m(\u001b[0m\u001b[0;34m)\u001b[0m\u001b[0;34m\u001b[0m\u001b[0m\n\u001b[0m",
      "\u001b[0;31mTypeError\u001b[0m: 'Column' object is not callable"
     ]
    }
   ],
   "source": [
    "dg[0]"
   ]
  },
  {
   "cell_type": "code",
   "execution_count": null,
   "metadata": {},
   "outputs": [],
   "source": []
  }
 ],
 "metadata": {
  "kernelspec": {
   "display_name": "Python 3",
   "language": "python",
   "name": "python3"
  },
  "language_info": {
   "codemirror_mode": {
    "name": "ipython",
    "version": 3
   },
   "file_extension": ".py",
   "mimetype": "text/x-python",
   "name": "python",
   "nbconvert_exporter": "python",
   "pygments_lexer": "ipython3",
   "version": "3.6.2"
  }
 },
 "nbformat": 4,
 "nbformat_minor": 1
}
